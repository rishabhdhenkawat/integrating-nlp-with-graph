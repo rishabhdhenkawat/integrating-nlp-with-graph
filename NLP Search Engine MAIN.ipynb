{
  "nbformat": 4,
  "nbformat_minor": 0,
  "metadata": {
    "colab": {
      "name": "NLP Search Engine.ipynb",
      "version": "0.3.2",
      "provenance": []
    },
    "language_info": {
      "codemirror_mode": {
        "name": "ipython",
        "version": 3
      },
      "file_extension": ".py",
      "mimetype": "text/x-python",
      "name": "python",
      "nbconvert_exporter": "python",
      "pygments_lexer": "ipython3",
      "version": "3.7.3"
    },
    "kernelspec": {
      "display_name": "Python 3",
      "language": "python",
      "name": "python3"
    }
  },
  "cells": [
    {
      "cell_type": "code",
      "metadata": {
        "_uuid": "d299aea0d2f1a76a70043d71b9233b04d985147d",
        "id": "fA5ywX5TVT8m",
        "colab_type": "code",
        "colab": {}
      },
      "source": [
        "\n",
        "import pandas as pd\n",
        "import numpy as np \n",
        "import string\n",
        "import random\n",
        "\n",
        "import nltk\n",
        "from nltk.corpus import brown\n",
        "from nltk.corpus import reuters\n",
        "\n",
        "from nltk.tokenize import word_tokenize\n",
        "from nltk.tokenize import RegexpTokenizer\n",
        "\n",
        "from nltk.corpus import stopwords\n",
        "\n",
        "from nltk.stem.porter import PorterStemmer\n",
        "from nltk.stem import SnowballStemmer"
      ],
      "execution_count": 0,
      "outputs": []
    },
    {
      "cell_type": "code",
      "metadata": {
        "_uuid": "006be6d61153b59e5f9725e67d268e9f62c78339",
        "id": "uzwt176nVT8r",
        "colab_type": "code",
        "colab": {},
        "outputId": "145683c8-0f12-4b02-dabe-1376529746ba"
      },
      "source": [
        "len(reuters.fileids())"
      ],
      "execution_count": 0,
      "outputs": [
        {
          "output_type": "execute_result",
          "data": {
            "text/plain": [
              "10788"
            ]
          },
          "metadata": {
            "tags": []
          },
          "execution_count": 16
        }
      ]
    },
    {
      "cell_type": "code",
      "metadata": {
        "_uuid": "ca9bda17034229327afd7d6cc769425d81bf76e9",
        "id": "oSDybZ25VT8z",
        "colab_type": "code",
        "colab": {},
        "outputId": "9fc8fdb1-1c72-4631-e59c-f33226a16053"
      },
      "source": [
        "#view text from one document \n",
        "reuters.raw(fileids=['test/14826'])[0:201]"
      ],
      "execution_count": 0,
      "outputs": [
        {
          "output_type": "execute_result",
          "data": {
            "text/plain": [
              "\"ASIAN EXPORTERS FEAR DAMAGE FROM U.S.-JAPAN RIFT\\n  Mounting trade friction between the\\n  U.S. And Japan has raised fears among many of Asia's exporting\\n  nations that the row could inflict far-reaching\""
            ]
          },
          "metadata": {
            "tags": []
          },
          "execution_count": 17
        }
      ]
    },
    {
      "cell_type": "code",
      "metadata": {
        "_uuid": "adf15a9fb24d881a1a2c4f11a955cd1d75a59106",
        "id": "Poh4vtdHVT85",
        "colab_type": "code",
        "colab": {},
        "outputId": "7205a1a6-39e6-4676-b601-426126c0dc1f"
      },
      "source": [
        "# remove punctuation from all DOCs \n",
        "exclude = set(string.punctuation)\n",
        "alldocslist = []\n",
        "\n",
        "for index, i in  enumerate(reuters.fileids()):\n",
        "    text = reuters.raw(fileids=[i])\n",
        "    text = ''.join(ch for ch in text if ch not in exclude)\n",
        "    alldocslist.append(text)\n",
        "    \n",
        "print(alldocslist[1])"
      ],
      "execution_count": 0,
      "outputs": [
        {
          "output_type": "stream",
          "text": [
            "CHINA DAILY SAYS VERMIN EAT 712 PCT GRAIN STOCKS\n",
            "  A survey of 19 provinces and seven cities\n",
            "  showed vermin consume between seven and 12 pct of Chinas grain\n",
            "  stocks the China Daily said\n",
            "      It also said that each year 1575 mln tonnes or 25 pct of\n",
            "  Chinas fruit output are left to rot and 21 mln tonnes or up\n",
            "  to 30 pct of its vegetables The paper blamed the waste on\n",
            "  inadequate storage and bad preservation methods\n",
            "      It said the government had launched a national programme to\n",
            "  reduce waste calling for improved technology in storage and\n",
            "  preservation and greater production of additives The paper\n",
            "  gave no further details\n",
            "  \n",
            "\n",
            "\n"
          ],
          "name": "stdout"
        }
      ]
    },
    {
      "cell_type": "code",
      "metadata": {
        "_uuid": "9bc13232129a1e7c110ac6910451df3c14c91f40",
        "id": "SqbZ_SgRVT89",
        "colab_type": "code",
        "colab": {},
        "outputId": "ea3749c4-bc02-4b05-cdbb-833153745d4e"
      },
      "source": [
        "#tokenize words in all DOCS \n",
        "plot_data = [[]] * len(alldocslist)\n",
        "\n",
        "for doc in alldocslist:\n",
        "    text = doc\n",
        "    tokentext = word_tokenize(text)\n",
        "    plot_data[index].append(tokentext)\n",
        "    \n",
        "print(plot_data[0][1])"
      ],
      "execution_count": 0,
      "outputs": [
        {
          "output_type": "stream",
          "text": [
            "['CHINA', 'DAILY', 'SAYS', 'VERMIN', 'EAT', '712', 'PCT', 'GRAIN', 'STOCKS', 'A', 'survey', 'of', '19', 'provinces', 'and', 'seven', 'cities', 'showed', 'vermin', 'consume', 'between', 'seven', 'and', '12', 'pct', 'of', 'Chinas', 'grain', 'stocks', 'the', 'China', 'Daily', 'said', 'It', 'also', 'said', 'that', 'each', 'year', '1575', 'mln', 'tonnes', 'or', '25', 'pct', 'of', 'Chinas', 'fruit', 'output', 'are', 'left', 'to', 'rot', 'and', '21', 'mln', 'tonnes', 'or', 'up', 'to', '30', 'pct', 'of', 'its', 'vegetables', 'The', 'paper', 'blamed', 'the', 'waste', 'on', 'inadequate', 'storage', 'and', 'bad', 'preservation', 'methods', 'It', 'said', 'the', 'government', 'had', 'launched', 'a', 'national', 'programme', 'to', 'reduce', 'waste', 'calling', 'for', 'improved', 'technology', 'in', 'storage', 'and', 'preservation', 'and', 'greater', 'production', 'of', 'additives', 'The', 'paper', 'gave', 'no', 'further', 'details']\n"
          ],
          "name": "stdout"
        }
      ]
    },
    {
      "cell_type": "code",
      "metadata": {
        "_uuid": "fd5c50507cec89313952d57aad07e9d0842ff9e1",
        "id": "6hnvHfQIVT9D",
        "colab_type": "code",
        "colab": {},
        "outputId": "572de318-e9ab-4709-a14d-0574365ddaba"
      },
      "source": [
        "# Navigation: first index gives all documents, second index gives specific document, third index gives words of that doc\n",
        "plot_data[0][1][0:10]"
      ],
      "execution_count": 0,
      "outputs": [
        {
          "output_type": "execute_result",
          "data": {
            "text/plain": [
              "['CHINA',\n",
              " 'DAILY',\n",
              " 'SAYS',\n",
              " 'VERMIN',\n",
              " 'EAT',\n",
              " '712',\n",
              " 'PCT',\n",
              " 'GRAIN',\n",
              " 'STOCKS',\n",
              " 'A']"
            ]
          },
          "metadata": {
            "tags": []
          },
          "execution_count": 20
        }
      ]
    },
    {
      "cell_type": "code",
      "metadata": {
        "_uuid": "7f2c197cf782bce0102488515a65ba735f656587",
        "id": "RNwsXYPhVT9K",
        "colab_type": "code",
        "colab": {},
        "outputId": "2c05c71f-4379-4293-931e-bcf6407b44a8"
      },
      "source": [
        "\n",
        "#make all words lower case for all docs \n",
        "for x in range(len(reuters.fileids())):\n",
        "    lowers = [word.lower() for word in plot_data[0][x]]\n",
        "    plot_data[0][x] = lowers\n",
        "\n",
        "plot_data[0][1][0:10]"
      ],
      "execution_count": 0,
      "outputs": [
        {
          "output_type": "execute_result",
          "data": {
            "text/plain": [
              "['china',\n",
              " 'daily',\n",
              " 'says',\n",
              " 'vermin',\n",
              " 'eat',\n",
              " '712',\n",
              " 'pct',\n",
              " 'grain',\n",
              " 'stocks',\n",
              " 'a']"
            ]
          },
          "metadata": {
            "tags": []
          },
          "execution_count": 21
        }
      ]
    },
    {
      "cell_type": "code",
      "metadata": {
        "_uuid": "6e74f62ed696191d32d14fb815e0e1ab6f8b393b",
        "id": "W2E765Z1VT9O",
        "colab_type": "code",
        "colab": {},
        "outputId": "d9b4362b-09d0-4ff4-c715-43518c8e646f"
      },
      "source": [
        "# remove stop words from all docs \n",
        "stop_words = set(stopwords.words('english'))\n",
        "\n",
        "for x in range(len(reuters.fileids())):\n",
        "    filtered_sentence = [w for w in plot_data[0][x] if not w in stop_words]\n",
        "    plot_data[0][x] = filtered_sentence\n",
        "\n",
        "plot_data[0][1][0:10]"
      ],
      "execution_count": 0,
      "outputs": [
        {
          "output_type": "execute_result",
          "data": {
            "text/plain": [
              "['china',\n",
              " 'daily',\n",
              " 'says',\n",
              " 'vermin',\n",
              " 'eat',\n",
              " '712',\n",
              " 'pct',\n",
              " 'grain',\n",
              " 'stocks',\n",
              " 'survey']"
            ]
          },
          "metadata": {
            "tags": []
          },
          "execution_count": 22
        }
      ]
    },
    {
      "cell_type": "code",
      "metadata": {
        "_uuid": "d47eebfd211946959f31d9606f7f8c20f70f3303",
        "id": "B3s1F0DBVT9W",
        "colab_type": "code",
        "colab": {},
        "outputId": "f15506bd-1585-49c5-81f0-cc79b4a52330"
      },
      "source": [
        "#stem words EXAMPLE (could try others/lemmers )\n",
        "\n",
        "snowball_stemmer = SnowballStemmer(\"english\")\n",
        "stemmed_sentence = [snowball_stemmer.stem(w) for w in filtered_sentence]\n",
        "stemmed_sentence[0:10]\n",
        "\n",
        "porter_stemmer = PorterStemmer()\n",
        "snowball_stemmer = SnowballStemmer(\"english\")\n",
        "stemmed_sentence = [ porter_stemmer.stem(w) for w in filtered_sentence]\n",
        "stemmed_sentence[0:10]"
      ],
      "execution_count": 0,
      "outputs": [
        {
          "output_type": "execute_result",
          "data": {
            "text/plain": [
              "['ltaha',\n",
              " 'automot',\n",
              " 'technolog',\n",
              " 'corp',\n",
              " 'year',\n",
              " 'net',\n",
              " 'shr',\n",
              " '43',\n",
              " 'ct',\n",
              " 'vs']"
            ]
          },
          "metadata": {
            "tags": []
          },
          "execution_count": 23
        }
      ]
    },
    {
      "cell_type": "code",
      "metadata": {
        "_uuid": "2a0605e9d7a1dbd52ebfea44ba7ded39fc53767c",
        "id": "UQq39BWGVT9c",
        "colab_type": "code",
        "colab": {}
      },
      "source": [
        "# Create inverse index which gives document number for each document and where word appears\n",
        "\n",
        "#first we need to create a list of all words \n",
        "l = plot_data[0]\n",
        "flatten = [item for sublist in l for item in sublist]\n",
        "words = flatten\n",
        "wordsunique = set(words)\n",
        "wordsunique = list(wordsunique)"
      ],
      "execution_count": 0,
      "outputs": []
    },
    {
      "cell_type": "code",
      "metadata": {
        "_uuid": "49efc97ad7151065564bb516cd3a53ff9297c1f1",
        "id": "Eouyi5h4VT9f",
        "colab_type": "code",
        "colab": {}
      },
      "source": [
        "# create functions for TD-IDF / BM25\n",
        "import math\n",
        "from textblob import TextBlob as tb\n",
        "\n",
        "def tf(word, doc):\n",
        "    return doc.count(word) / len(doc)\n",
        "\n",
        "def n_containing(word, doclist):\n",
        "    return sum(1 for doc in doclist if word in doc)\n",
        "\n",
        "def idf(word, doclist):\n",
        "    return math.log(len(doclist) / (0.01 + n_containing(word, doclist)))\n",
        "\n",
        "def tfidf(word, doc, doclist):\n",
        "    return (tf(word, doc) * idf(word, doclist))"
      ],
      "execution_count": 0,
      "outputs": []
    },
    {
      "cell_type": "code",
      "metadata": {
        "_uuid": "52c04e635a0c2519139a48e32f6f9f388bbe99d6",
        "id": "BAcTOEDCVT9i",
        "colab_type": "code",
        "colab": {}
      },
      "source": [
        "# Create dictonary of words\n",
        "# THIS ONE-TIME INDEXING IS THE MOST PROCESSOR-INTENSIVE STEP AND WILL TAKE TIME TO RUN (BUT ONLY NEEDS TO BE RUN ONCE)\n",
        "import re\n",
        "import numpy as np\n",
        "\n",
        "plottest = plot_data[0][0:1000]\n",
        "\n",
        "worddic = {}\n",
        "\n",
        "for doc in plottest:\n",
        "    for word in wordsunique:\n",
        "        if word in doc:\n",
        "            word = str(word)\n",
        "            index = plottest.index(doc)\n",
        "            positions = list(np.where(np.array(plottest[index]) == word)[0])\n",
        "            idfs = tfidf(word,doc,plottest)\n",
        "            try:\n",
        "                worddic[word].append([index,positions,idfs])\n",
        "            except:\n",
        "                worddic[word] = []\n",
        "                worddic[word].append([index,positions,idfs])"
      ],
      "execution_count": 0,
      "outputs": []
    },
    {
      "cell_type": "code",
      "metadata": {
        "_uuid": "bb59b82d32b95214e512ff468113c12484588498",
        "id": "MP5KEF8bVT9m",
        "colab_type": "code",
        "colab": {}
      },
      "source": [
        "# the index creates a dic with each word as a KEY and a list of doc indexs, word positions, and td-idf score as VALUES\n",
        "worddic['china']"
      ],
      "execution_count": 0,
      "outputs": []
    },
    {
      "cell_type": "code",
      "metadata": {
        "_uuid": "812e14b05aaca705a2f5b5b4228cdfb14a71b198",
        "id": "JtJJXvxsVT9q",
        "colab_type": "code",
        "colab": {}
      },
      "source": [
        "# pickel (save) the dictonary to avoid re-calculating\n",
        "np.save('worddic_1000.npy', worddic)"
      ],
      "execution_count": 0,
      "outputs": []
    },
    {
      "cell_type": "code",
      "metadata": {
        "_uuid": "2147470ee4e617ed9bd86dd4cc8ac28a8624cd8f",
        "id": "9EJR2Y_PVT9u",
        "colab_type": "code",
        "colab": {}
      },
      "source": [
        "# create word search which takes multiple words and finds documents that contain both along with metrics for ranking:\n",
        "\n",
        "    \n",
        "\n",
        "\n",
        "from collections import Counter\n",
        "\n",
        "def search(searchsentence):\n",
        "    try:\n",
        "        # split sentence into individual words \n",
        "        searchsentence = searchsentence.lower()\n",
        "        try:\n",
        "            words = searchsentence.split(' ')\n",
        "        except:\n",
        "            words = list(words)\n",
        "        enddic = {}\n",
        "        idfdic = {}\n",
        "        closedic = {}\n",
        "        \n",
        "        # remove words if not in worddic \n",
        "        realwords = []\n",
        "        for word in words:\n",
        "            if word in list(worddic.keys()):\n",
        "                realwords.append(word)  \n",
        "        words = realwords\n",
        "        numwords = len(words)\n",
        "        \n",
        "        # make metric of number of occurances of all words in each doc & largest total IDF \n",
        "        for word in words:\n",
        "            for indpos in worddic[word]:\n",
        "                index = indpos[0]\n",
        "                amount = len(indpos[1])\n",
        "                idfscore = indpos[2]\n",
        "                enddic[index] = amount\n",
        "                idfdic[index] = idfscore\n",
        "                fullcount_order = sorted(enddic.items(), key=lambda x:x[1], reverse=True)\n",
        "                fullidf_order = sorted(idfdic.items(), key=lambda x:x[1], reverse=True)\n",
        "\n",
        "                \n",
        "        # make metric of what percentage of words appear in each doc\n",
        "        combo = []\n",
        "        alloptions = {k: worddic.get(k, None) for k in (words)}\n",
        "        for worddex in list(alloptions.values()):\n",
        "            for indexpos in worddex:\n",
        "                for indexz in indexpos:\n",
        "                    combo.append(indexz)\n",
        "        comboindex = combo[::3]\n",
        "        combocount = Counter(comboindex)\n",
        "        for key in combocount:\n",
        "            combocount[key] = combocount[key] / numwords\n",
        "        combocount_order = sorted(combocount.items(), key=lambda x:x[1], reverse=True)\n",
        "        \n",
        "        # make metric for if words appear in same order as in search\n",
        "        if len(words) > 1:\n",
        "            x = []\n",
        "            y = []\n",
        "            for record in [worddic[z] for z in words]:\n",
        "                for index in record:\n",
        "                     x.append(index[0])\n",
        "            for i in x:\n",
        "                if x.count(i) > 1:\n",
        "                    y.append(i)\n",
        "            y = list(set(y))\n",
        "\n",
        "            closedic = {}\n",
        "            for wordbig in [worddic[x] for x in words]:\n",
        "                for record in wordbig:\n",
        "                    if record[0] in y:\n",
        "                        index = record[0]\n",
        "                        positions = record[1]\n",
        "                        try:\n",
        "                            closedic[index].append(positions)\n",
        "                        except:\n",
        "                            closedic[index] = []\n",
        "                            closedic[index].append(positions)\n",
        "\n",
        "            x = 0\n",
        "            fdic = {}\n",
        "            for index in y:\n",
        "                csum = []\n",
        "                for seqlist in closedic[index]:\n",
        "                    while x > 0:\n",
        "                        secondlist = seqlist\n",
        "                        x = 0\n",
        "                        sol = [1 for i in firstlist if i + 1 in secondlist]\n",
        "                        csum.append(sol)\n",
        "                        fsum = [item for sublist in csum for item in sublist]\n",
        "                        fsum = sum(fsum)\n",
        "                        fdic[index] = fsum\n",
        "                        fdic_order = sorted(fdic.items(), key=lambda x:x[1], reverse=True)\n",
        "                    while x == 0:\n",
        "                        firstlist = seqlist\n",
        "                        x = x + 1\n",
        "        else:\n",
        "            fdic_order = 0\n",
        "                    \n",
        "        # also the one above should be given a big boost if ALL found together \n",
        "           \n",
        "        \n",
        "        #could make another metric for if they are not next to each other but still close \n",
        "        \n",
        "        \n",
        "        return(searchsentence,words,fullcount_order,combocount_order,fullidf_order,fdic_order)\n",
        "    \n",
        "    except:\n",
        "        return(\"\")\n",
        "\n",
        "\n",
        "search('indonesia crude palm oil')[1]"
      ],
      "execution_count": 0,
      "outputs": []
    },
    {
      "cell_type": "code",
      "metadata": {
        "_uuid": "019fcbd773b5c848507464b3d20c8ce80b5be31f",
        "id": "Bg29YKtKVT9z",
        "colab_type": "code",
        "colab": {}
      },
      "source": [
        "# 0 return will give back the search term, the rest will give back metrics (see above)\n",
        "\n",
        "search('indonesia crude palm oil')[1][1:10]"
      ],
      "execution_count": 0,
      "outputs": []
    },
    {
      "cell_type": "code",
      "metadata": {
        "_uuid": "1969ddc3a6ccd58339a4cb22241a92334609d0d2",
        "id": "w8c3ERO5VT94",
        "colab_type": "code",
        "colab": {}
      },
      "source": [
        "# save metrics to dataframe for use in ranking and machine learning \n",
        "result1 = search('china daily says what')\n",
        "result2 = search('indonesia crude palm oil')\n",
        "result3 = search('price of nickel')\n",
        "result4 = search('north yemen sugar')\n",
        "result5 = search('nippon steel')\n",
        "result6 = search('China')\n",
        "result7 = search('Gold')\n",
        "result8 = search('trade')\n",
        "df = pd.DataFrame([result1,result2,result3,result4,result5,result6,result7,result8])\n",
        "df.columns = ['search term', 'actual_words_searched','num_occur','percentage_of_terms','td-idf','word_order']\n",
        "df"
      ],
      "execution_count": 0,
      "outputs": []
    },
    {
      "cell_type": "code",
      "metadata": {
        "_uuid": "d73df8c6ffbff3d6d9f665f85f9b98912a4e8a70",
        "id": "TbpKGwQeVT-B",
        "colab_type": "code",
        "colab": {}
      },
      "source": [
        "# look to see if the top documents seem to make sense\n",
        "\n",
        "alldocslist[1]"
      ],
      "execution_count": 0,
      "outputs": []
    },
    {
      "cell_type": "code",
      "metadata": {
        "_uuid": "ada71696d2166bee882afe85a2b8fb2b4c10ff2a",
        "id": "5-vcm8lAVT-J",
        "colab_type": "code",
        "colab": {}
      },
      "source": [
        "# create a simple (non-machine learning) rank and return function\n",
        "\n",
        "def rank(term):\n",
        "    results = search(term)\n",
        "\n",
        "    # get metrics \n",
        "    num_score = results[2]\n",
        "    per_score = results[3]\n",
        "    tfscore = results[4]\n",
        "    order_score = results[5]\n",
        "    \n",
        "    final_candidates = []\n",
        "\n",
        "    # rule1: if high word order score & 100% percentage terms then put at top position\n",
        "    try:\n",
        "        first_candidates = []\n",
        "\n",
        "        for candidates in order_score:\n",
        "            if candidates[1] > 1:\n",
        "                first_candidates.append(candidates[0])\n",
        "\n",
        "        second_candidates = []\n",
        "\n",
        "        for match_candidates in per_score:\n",
        "            if match_candidates[1] == 1:\n",
        "                second_candidates.append(match_candidates[0])\n",
        "            if match_candidates[1] == 1 and match_candidates[0] in first_candidates:\n",
        "                final_candidates.append(match_candidates[0])\n",
        "\n",
        "    # rule2: next add other word order score which are greater than 1 \n",
        "\n",
        "        t3_order = first_candidates[0:3]\n",
        "        for each in t3_order:\n",
        "            if each not in final_candidates:\n",
        "                final_candidates.insert(len(final_candidates),each)\n",
        "\n",
        "    # rule3: next add top td-idf results\n",
        "        final_candidates.insert(len(final_candidates),tfscore[0][0])\n",
        "        final_candidates.insert(len(final_candidates),tfscore[1][0])\n",
        "\n",
        "    # rule4: next add other high percentage score \n",
        "        t3_per = second_candidates[0:3]\n",
        "        for each in t3_per:\n",
        "            if each not in final_candidates:\n",
        "                final_candidates.insert(len(final_candidates),each)\n",
        "\n",
        "    #rule5: next add any other top results for metrics\n",
        "        othertops = [num_score[0][0],per_score[0][0],tfscore[0][0],order_score[0][0]]\n",
        "        for top in othertops:\n",
        "            if top not in final_candidates:\n",
        "                final_candidates.insert(len(final_candidates),top)\n",
        "                \n",
        "    # unless single term searched, in which case just return \n",
        "    except:\n",
        "        othertops = [num_score[0][0],num_score[1][0],num_score[2][0],per_score[0][0],tfscore[0][0]]\n",
        "        for top in othertops:\n",
        "            if top not in final_candidates:\n",
        "                final_candidates.insert(len(final_candidates),top)\n",
        "\n",
        "    for index, results in enumerate(final_candidates):\n",
        "        if index < 5:\n",
        "            print(\"RESULT\", index + 1, \":\", alldocslist[results][0:100],\"...\")"
      ],
      "execution_count": 0,
      "outputs": []
    },
    {
      "cell_type": "code",
      "metadata": {
        "_uuid": "ff1223779f6fe1ff43f57bccb02a34b080fa1bd3",
        "id": "qV3c4kMrVT-N",
        "colab_type": "code",
        "colab": {}
      },
      "source": [
        "# example of output \n",
        "rank('indonesia palm oil')"
      ],
      "execution_count": 0,
      "outputs": []
    },
    {
      "cell_type": "code",
      "metadata": {
        "_uuid": "e7e54018311df9282fdc70cc31269c03a89ff057",
        "id": "LAkJZ05kVT-Q",
        "colab_type": "code",
        "colab": {}
      },
      "source": [
        "# example of output \n",
        "rank('china')"
      ],
      "execution_count": 0,
      "outputs": []
    },
    {
      "cell_type": "code",
      "metadata": {
        "_uuid": "27c241335deb72336169932273b62825312bb5a0",
        "id": "NO90JoOkVT-W",
        "colab_type": "code",
        "colab": {}
      },
      "source": [
        "\n",
        "\n",
        "df_truth = pd.DataFrame()\n",
        "\n",
        "for doc in plottest:\n",
        "    first_five = doc[0:5]\n",
        "    test_sentence = ' '.join(first_five)\n",
        "    result = search(test_sentence)\n",
        "    df_temp = pd.DataFrame([result])\n",
        "    df_truth= pd.concat([df_truth, df_temp])\n",
        "\n",
        "df_truth['truth'] = range(0,len(plottest))"
      ],
      "execution_count": 0,
      "outputs": []
    },
    {
      "cell_type": "code",
      "metadata": {
        "_uuid": "c430f7b42a7b33e9c0407f6e3e4304a5174d1187",
        "id": "j4CujNfJVT-Z",
        "colab_type": "code",
        "colab": {}
      },
      "source": [
        "# create another psuedo-truth set using random 3 word sequence from docs\n",
        "\n",
        "df_truth1 = pd.DataFrame()\n",
        "seqlen = 3\n",
        "\n",
        "for doc in plottest:\n",
        "    try:\n",
        "        start = random.randint(0,(len(doc)-seqlen))\n",
        "        random_seq = doc[start:start+seqlen]\n",
        "        test_sentence = ' '.join(random_seq)\n",
        "    except:\n",
        "        test_sentence = doc[0]\n",
        "    result = search(test_sentence)\n",
        "    df_temp = pd.DataFrame([result])\n",
        "    df_truth1= pd.concat([df_truth1, df_temp])\n",
        "\n",
        "df_truth1['truth'] = range(0,len(plottest))"
      ],
      "execution_count": 0,
      "outputs": []
    },
    {
      "cell_type": "code",
      "metadata": {
        "_uuid": "32a04b1cf5436be7e889766bdcc7947a6cb5850a",
        "id": "TSFM1C5_VT-c",
        "colab_type": "code",
        "colab": {}
      },
      "source": [
        "# create another psuedo-truth set using different random 4 word sequence from docs\n",
        "\n",
        "df_truth2 = pd.DataFrame()\n",
        "seqlen = 4\n",
        "\n",
        "for doc in plottest:\n",
        "    try:\n",
        "        start = random.randint(0,(len(doc)-seqlen))\n",
        "        random_seq = doc[start:start+seqlen]\n",
        "        test_sentence = ' '.join(random_seq)\n",
        "    except:\n",
        "        test_sentence = doc[0]\n",
        "    result = search(test_sentence)\n",
        "    df_temp = pd.DataFrame([result])\n",
        "    df_truth2= pd.concat([df_truth2, df_temp])\n",
        "\n",
        "df_truth2['truth'] = range(0,len(plottest))"
      ],
      "execution_count": 0,
      "outputs": []
    },
    {
      "cell_type": "code",
      "metadata": {
        "_uuid": "620159349587576820bf4223f70a5a02cd16f781",
        "id": "wC7UnRAXVT-i",
        "colab_type": "code",
        "colab": {}
      },
      "source": [
        "# create another psuedo-truth set using different random 2 word sequence from docs\n",
        "\n",
        "df_truth3 = pd.DataFrame()\n",
        "seqlen = 2\n",
        "\n",
        "for doc in plottest:\n",
        "    try:\n",
        "        start = random.randint(0,(len(doc)-seqlen))\n",
        "        random_seq = doc[start:start+seqlen]\n",
        "        test_sentence = ' '.join(random_seq)\n",
        "    except:\n",
        "        test_sentence = doc[0]\n",
        "    result = search(test_sentence)\n",
        "    df_temp = pd.DataFrame([result])\n",
        "    df_truth3= pd.concat([df_truth3, df_temp])\n",
        "\n",
        "df_truth3['truth'] = range(0,len(plottest))"
      ],
      "execution_count": 0,
      "outputs": []
    },
    {
      "cell_type": "code",
      "metadata": {
        "_uuid": "d75e90237b4b359091f2aad7b066b77d93984bbe",
        "id": "rKFTAUbmVT-k",
        "colab_type": "code",
        "colab": {}
      },
      "source": [
        "# combine the truth sets and save to disk \n",
        "truth_set = pd.concat([df_truth,df_truth1,df_truth2,df_truth3])\n",
        "truth_set.columns = ['search term', 'actual_words_searched','num_occur','percentage_of_terms','td-idf','word_order','truth']\n",
        "truth_set.to_csv(\"truth_set_final.csv\")"
      ],
      "execution_count": 0,
      "outputs": []
    },
    {
      "cell_type": "code",
      "metadata": {
        "_uuid": "7d6e1c01ee576a5b04cea6578f86fbfe03849d24",
        "id": "jTrzRGRuVT-p",
        "colab_type": "code",
        "colab": {}
      },
      "source": [
        "truth_set[0:10]"
      ],
      "execution_count": 0,
      "outputs": []
    },
    {
      "cell_type": "code",
      "metadata": {
        "_uuid": "d08a5dcd003e8c24a4d6ac3610cf2a84c1b29fe4",
        "id": "afrPgCWuVT-s",
        "colab_type": "code",
        "colab": {}
      },
      "source": [
        "truth_set\n",
        "test_set = truth_set[0:3]\n",
        "test_set"
      ],
      "execution_count": 0,
      "outputs": []
    },
    {
      "cell_type": "code",
      "metadata": {
        "_uuid": "7fffa8821923ff7541d1c874067eb5243b71d900",
        "id": "nH2yGSnDVT-v",
        "colab_type": "code",
        "colab": {}
      },
      "source": [
        "\n",
        "\n",
        "final_set =  pd.DataFrame()\n",
        "test_set = truth_set[1:100]\n",
        "maxnum = 5\n",
        "\n",
        "for row in range(0,len(test_set.index)):\n",
        "    test_set = truth_set[1:100]\n",
        "    for col in range(2,6):\n",
        "        for i in range(0,min(maxnum,len(truth_set.iloc[row][col]))):\n",
        "            x = pd.DataFrame([truth_set.iloc[row][col][i]])\n",
        "            x['truth'] = truth_set.iloc[row]['truth']\n",
        "            x.columns = [(str(truth_set.columns[col]),\"index\",i),(str(truth_set.columns[col]),\"score\",i),'truth']\n",
        "            test_set = test_set.merge(x,on='truth')\n",
        "    final_set = pd.concat([final_set,test_set])\n",
        "        \n",
        "final_set.head()"
      ],
      "execution_count": 0,
      "outputs": []
    },
    {
      "cell_type": "code",
      "metadata": {
        "_uuid": "595a60b9cc849a8fe7727f969a5d0e4e8bf90a92",
        "id": "kOsiaHd0VT-y",
        "colab_type": "code",
        "colab": {}
      },
      "source": [
        "final_set.to_csv(\"ML_set_100.csv\")"
      ],
      "execution_count": 0,
      "outputs": []
    },
    {
      "cell_type": "code",
      "metadata": {
        "_uuid": "709822cde4bb43ad7e53e9a04656f0448c3dc351",
        "id": "KlM_ZDNAVT-1",
        "colab_type": "code",
        "colab": {}
      },
      "source": [
        "final_set2 = final_set.drop(['actual_words_searched','num_occur','percentage_of_terms','search term','td-idf','word_order'], 1)\n",
        "final_set2.to_csv(\"ML_set_100_3.csv\")\n",
        "final_set2.head()"
      ],
      "execution_count": 0,
      "outputs": []
    },
    {
      "cell_type": "code",
      "metadata": {
        "_uuid": "1e5bca55011d89717b436b6fd3616bf360d70eec",
        "id": "d71z-peUVT-8",
        "colab_type": "code",
        "colab": {}
      },
      "source": [
        "final_set3 = final_set2\n",
        "final_set3[0:10]"
      ],
      "execution_count": 0,
      "outputs": []
    },
    {
      "cell_type": "code",
      "metadata": {
        "_uuid": "a71d140011bc1354cf1dcf089fccd78150f7d2c6",
        "id": "sdUdBCyLVT-_",
        "colab_type": "code",
        "colab": {}
      },
      "source": [
        "# Load libraries \n",
        "%matplotlib inline\n",
        "import numpy as np\n",
        "import pandas as pd\n",
        "from scipy import stats\n",
        "import matplotlib.pyplot as plt\n",
        "\n",
        "import statsmodels.api as sm\n",
        "import statsmodels.formula.api as sm\n",
        "import statsmodels.api as sma\n",
        "from statsmodels.tools.eval_measures import mse\n",
        "from statsmodels.tools.tools import add_constant\n",
        "\n",
        "from sklearn import linear_model,cross_validation, feature_selection,preprocessing\n",
        "from sklearn.metrics import mean_squared_error\n",
        "from sklearn.cross_validation import KFold"
      ],
      "execution_count": 0,
      "outputs": []
    },
    {
      "cell_type": "code",
      "metadata": {
        "_uuid": "7f65c9fd7a955a88a4273593a1e6b4dd119beaba",
        "id": "jh-7H55XVT_E",
        "colab_type": "code",
        "colab": {}
      },
      "source": [
        "final_set3['y'] = final_set3['truth']\n",
        "final_set3 = final_set3.drop(['truth'], 1)\n",
        "final_set3"
      ],
      "execution_count": 0,
      "outputs": []
    },
    {
      "cell_type": "code",
      "metadata": {
        "_uuid": "5c7f6f6510bd06c32993e4d36a7cf9fea4e7ba90",
        "id": "ZJvLtxRNVT_K",
        "colab_type": "code",
        "colab": {}
      },
      "source": [
        "data = final_set3\n",
        "data.corr()['y']"
      ],
      "execution_count": 0,
      "outputs": []
    },
    {
      "cell_type": "code",
      "metadata": {
        "_uuid": "df333c592779820bf14adbf2a279e46d3a434f22",
        "id": "_Q5hTaiFVT_N",
        "colab_type": "code",
        "colab": {}
      },
      "source": [
        "data['a'] = data[data.columns[0]]\n",
        "data['b'] = data[data.columns[10]]\n",
        "data['c'] = data[data.columns[20]]\n",
        "data['d'] = data[data.columns[30]]"
      ],
      "execution_count": 0,
      "outputs": []
    },
    {
      "cell_type": "code",
      "metadata": {
        "_uuid": "32a0a1b5e97377068c7ebd8658b69348846792b5",
        "id": "XMhjojjqVT_Q",
        "colab_type": "code",
        "colab": {}
      },
      "source": [
        "X = data\n",
        "\n",
        "train,test = cross_validation.train_test_split(X,train_size=0.80)\n",
        "\n",
        "model = sm.ols(formula='y ~ 1 + a + b + c + d', \n",
        "               data=train).fit()\n",
        "\n",
        "modelforout = model \n",
        "\n",
        "model.summary()"
      ],
      "execution_count": 0,
      "outputs": []
    },
    {
      "cell_type": "code",
      "metadata": {
        "_uuid": "c1fc64479292acecc2ddb741ba0082d98b86126e",
        "id": "D5aWziH4VT_T",
        "colab_type": "code",
        "colab": {}
      },
      "source": [
        "fig, ax = plt.subplots(figsize=(12,8))\n",
        "fig = sma.graphics.influence_plot(modelforout, ax=ax, criterion=\"cooks\")"
      ],
      "execution_count": 0,
      "outputs": []
    },
    {
      "cell_type": "code",
      "metadata": {
        "_uuid": "d4e6379d1825c51cbad132271c8130fefbd675fc",
        "id": "mb2zQc2cVT_V",
        "colab_type": "code",
        "colab": {}
      },
      "source": [
        "res = model.resid # residuals\n",
        "fig = sma.qqplot(res)\n",
        "plt.show()"
      ],
      "execution_count": 0,
      "outputs": []
    },
    {
      "cell_type": "code",
      "metadata": {
        "_uuid": "57a2884332743196f70be78f346c9941c3287ea4",
        "id": "vHl2P-r5VT_Z",
        "colab_type": "code",
        "colab": {}
      },
      "source": [
        "term = input(\"search: \")\n",
        "rank(term)"
      ],
      "execution_count": 0,
      "outputs": []
    },
    {
      "cell_type": "code",
      "metadata": {
        "_uuid": "f78e318bcd13eba07f85b49dea78d9baf7f451b7",
        "id": "sFj2RUNPVT_b",
        "colab_type": "code",
        "colab": {}
      },
      "source": [
        "term = input(\"search: \")\n",
        "try:\n",
        "    result = rank(term)\n",
        "    result\n",
        "    feedback = input(\"were these articles helpful?, (Y/N): \")\n",
        "    if feedback == \"Y\":\n",
        "        np.save('correct_search.npy', worddic) \n",
        "    elif feedback == \"exit\":\n",
        "    else:\n",
        "        print(\"sorry it was not helpful, try again\")\n",
        "except:\n",
        "    print(\"no results found\")"
      ],
      "execution_count": 0,
      "outputs": []
    },
    {
      "cell_type": "code",
      "metadata": {
        "_uuid": "c0e20b27db75e6a5d7fce32201a9e7b7b177a624",
        "id": "8wunB75jVT_j",
        "colab_type": "code",
        "colab": {}
      },
      "source": [
        ""
      ],
      "execution_count": 0,
      "outputs": []
    }
  ]
}