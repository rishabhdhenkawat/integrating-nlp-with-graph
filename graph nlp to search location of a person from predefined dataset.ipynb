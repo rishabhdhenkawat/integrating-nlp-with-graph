{
  "nbformat": 4,
  "nbformat_minor": 0,
  "metadata": {
    "colab": {
      "name": "dynamic_memory_1.ipynb",
      "version": "0.3.2",
      "provenance": []
    },
    "language_info": {
      "codemirror_mode": {
        "name": "ipython",
        "version": 3
      },
      "file_extension": ".py",
      "mimetype": "text/x-python",
      "name": "python",
      "nbconvert_exporter": "python",
      "pygments_lexer": "ipython3",
      "version": "3.6.1"
    },
    "kernelspec": {
      "display_name": "Python 3",
      "language": "python",
      "name": "python3"
    }
  },
  "cells": [
    {
      "cell_type": "code",
      "metadata": {
        "deletable": true,
        "editable": true,
        "id": "EyM5TcSaXaNT",
        "colab_type": "code",
        "colab": {}
      },
      "source": [
        "import pandas as pd\n",
        "import numpy as np\n",
        "import nltk\n",
        "from sklearn.metrics import accuracy_score"
      ],
      "execution_count": 0,
      "outputs": []
    },
    {
      "cell_type": "code",
      "metadata": {
        "deletable": true,
        "editable": true,
        "id": "P_NwF4tXXaNY",
        "colab_type": "code",
        "colab": {},
        "outputId": "04054f83-c8d7-433b-f01c-63aec1fe5abd"
      },
      "source": [
        "\n",
        "nltk.download()"
      ],
      "execution_count": 0,
      "outputs": [
        {
          "output_type": "stream",
          "text": [
            "showing info https://raw.githubusercontent.com/nltk/nltk_data/gh-pages/index.xml\n"
          ],
          "name": "stdout"
        },
        {
          "output_type": "execute_result",
          "data": {
            "text/plain": [
              "True"
            ]
          },
          "metadata": {
            "tags": []
          },
          "execution_count": 2
        }
      ]
    },
    {
      "cell_type": "code",
      "metadata": {
        "deletable": true,
        "editable": true,
        "id": "Cypx5DyUXaNg",
        "colab_type": "code",
        "colab": {}
      },
      "source": [
        "# Read the bAbI data as CSV\n",
        "filename = 'resources/qa1_single-supporting-fact_train.txt'\n",
        "data_qa1 = pd.read_csv(filename, delimiter='\\t', names=['sentence', 'answer', 'factid'])\n",
        "data_qa1 = data_qa1.fillna('')"
      ],
      "execution_count": 0,
      "outputs": []
    },
    {
      "cell_type": "code",
      "metadata": {
        "deletable": true,
        "editable": true,
        "id": "UqIgBhZUXaNl",
        "colab_type": "code",
        "colab": {},
        "outputId": "4d83d008-3019-4beb-cbea-144dc4db3f9a"
      },
      "source": [
        "data_qa1[:6]"
      ],
      "execution_count": 0,
      "outputs": [
        {
          "output_type": "execute_result",
          "data": {
            "text/html": [
              "<div>\n",
              "<style scoped>\n",
              "    .dataframe tbody tr th:only-of-type {\n",
              "        vertical-align: middle;\n",
              "    }\n",
              "\n",
              "    .dataframe tbody tr th {\n",
              "        vertical-align: top;\n",
              "    }\n",
              "\n",
              "    .dataframe thead th {\n",
              "        text-align: right;\n",
              "    }\n",
              "</style>\n",
              "<table border=\"1\" class=\"dataframe\">\n",
              "  <thead>\n",
              "    <tr style=\"text-align: right;\">\n",
              "      <th></th>\n",
              "      <th>sentence</th>\n",
              "      <th>answer</th>\n",
              "      <th>factid</th>\n",
              "    </tr>\n",
              "  </thead>\n",
              "  <tbody>\n",
              "    <tr>\n",
              "      <th>0</th>\n",
              "      <td>1 Mary moved to the bathroom.</td>\n",
              "      <td></td>\n",
              "      <td></td>\n",
              "    </tr>\n",
              "    <tr>\n",
              "      <th>1</th>\n",
              "      <td>2 John went to the hallway.</td>\n",
              "      <td></td>\n",
              "      <td></td>\n",
              "    </tr>\n",
              "    <tr>\n",
              "      <th>2</th>\n",
              "      <td>3 Where is Mary?</td>\n",
              "      <td>bathroom</td>\n",
              "      <td>1</td>\n",
              "    </tr>\n",
              "    <tr>\n",
              "      <th>3</th>\n",
              "      <td>4 Daniel went back to the hallway.</td>\n",
              "      <td></td>\n",
              "      <td></td>\n",
              "    </tr>\n",
              "    <tr>\n",
              "      <th>4</th>\n",
              "      <td>5 Sandra moved to the garden.</td>\n",
              "      <td></td>\n",
              "      <td></td>\n",
              "    </tr>\n",
              "    <tr>\n",
              "      <th>5</th>\n",
              "      <td>6 Where is Daniel?</td>\n",
              "      <td>hallway</td>\n",
              "      <td>4</td>\n",
              "    </tr>\n",
              "  </tbody>\n",
              "</table>\n",
              "</div>"
            ],
            "text/plain": [
              "                             sentence    answer factid\n",
              "0       1 Mary moved to the bathroom.                 \n",
              "1         2 John went to the hallway.                 \n",
              "2                   3 Where is Mary?   bathroom      1\n",
              "3  4 Daniel went back to the hallway.                 \n",
              "4       5 Sandra moved to the garden.                 \n",
              "5                 6 Where is Daniel?    hallway      4"
            ]
          },
          "metadata": {
            "tags": []
          },
          "execution_count": 4
        }
      ]
    },
    {
      "cell_type": "code",
      "metadata": {
        "deletable": true,
        "editable": true,
        "id": "yzLxOhCLXaNq",
        "colab_type": "code",
        "colab": {}
      },
      "source": [
        "# Tag each sentence as a statement (S) or question (Q)\n",
        "tag_sentence = lambda row: 'S' if row.answer == '' else 'Q'\n",
        "data_qa1['type'] = data_qa1.apply(tag_sentence, axis=1)\n",
        "\n",
        "# Use NLTK to tokenize the sentences into arrays of words\n",
        "# If you get an error here, make sure you have downloaded the NLTK packages above\n",
        "tokenize = lambda row: nltk.word_tokenize(row.sentence)[1:]\n",
        "data_qa1.sentence = data_qa1.apply(tokenize, axis=1)\n",
        "\n",
        "# Drop the factid column, as we won't need it\n",
        "data_qa1 = data_qa1.drop('factid', axis=1)"
      ],
      "execution_count": 0,
      "outputs": []
    },
    {
      "cell_type": "code",
      "metadata": {
        "deletable": true,
        "editable": true,
        "id": "3KuVSKuJXaNu",
        "colab_type": "code",
        "colab": {},
        "outputId": "e66459ea-af9f-4178-ccc9-4b67ac4901fb"
      },
      "source": [
        "data_qa1[:6]"
      ],
      "execution_count": 0,
      "outputs": [
        {
          "output_type": "execute_result",
          "data": {
            "text/html": [
              "<div>\n",
              "<style scoped>\n",
              "    .dataframe tbody tr th:only-of-type {\n",
              "        vertical-align: middle;\n",
              "    }\n",
              "\n",
              "    .dataframe tbody tr th {\n",
              "        vertical-align: top;\n",
              "    }\n",
              "\n",
              "    .dataframe thead th {\n",
              "        text-align: right;\n",
              "    }\n",
              "</style>\n",
              "<table border=\"1\" class=\"dataframe\">\n",
              "  <thead>\n",
              "    <tr style=\"text-align: right;\">\n",
              "      <th></th>\n",
              "      <th>sentence</th>\n",
              "      <th>answer</th>\n",
              "      <th>type</th>\n",
              "    </tr>\n",
              "  </thead>\n",
              "  <tbody>\n",
              "    <tr>\n",
              "      <th>0</th>\n",
              "      <td>[Mary, moved, to, the, bathroom, .]</td>\n",
              "      <td></td>\n",
              "      <td>S</td>\n",
              "    </tr>\n",
              "    <tr>\n",
              "      <th>1</th>\n",
              "      <td>[John, went, to, the, hallway, .]</td>\n",
              "      <td></td>\n",
              "      <td>S</td>\n",
              "    </tr>\n",
              "    <tr>\n",
              "      <th>2</th>\n",
              "      <td>[Where, is, Mary, ?]</td>\n",
              "      <td>bathroom</td>\n",
              "      <td>Q</td>\n",
              "    </tr>\n",
              "    <tr>\n",
              "      <th>3</th>\n",
              "      <td>[Daniel, went, back, to, the, hallway, .]</td>\n",
              "      <td></td>\n",
              "      <td>S</td>\n",
              "    </tr>\n",
              "    <tr>\n",
              "      <th>4</th>\n",
              "      <td>[Sandra, moved, to, the, garden, .]</td>\n",
              "      <td></td>\n",
              "      <td>S</td>\n",
              "    </tr>\n",
              "    <tr>\n",
              "      <th>5</th>\n",
              "      <td>[Where, is, Daniel, ?]</td>\n",
              "      <td>hallway</td>\n",
              "      <td>Q</td>\n",
              "    </tr>\n",
              "  </tbody>\n",
              "</table>\n",
              "</div>"
            ],
            "text/plain": [
              "                                    sentence    answer type\n",
              "0        [Mary, moved, to, the, bathroom, .]              S\n",
              "1          [John, went, to, the, hallway, .]              S\n",
              "2                       [Where, is, Mary, ?]  bathroom    Q\n",
              "3  [Daniel, went, back, to, the, hallway, .]              S\n",
              "4        [Sandra, moved, to, the, garden, .]              S\n",
              "5                     [Where, is, Daniel, ?]   hallway    Q"
            ]
          },
          "metadata": {
            "tags": []
          },
          "execution_count": 6
        }
      ]
    },
    {
      "cell_type": "code",
      "metadata": {
        "deletable": true,
        "editable": true,
        "id": "khLO-MoYXaN2",
        "colab_type": "code",
        "colab": {}
      },
      "source": [
        "# Create a DataFrame with just the statements\n",
        "def statements(df):\n",
        "    return df[df.type == 'S'] \\\n",
        "        .reset_index(drop=True) \\\n",
        "        .drop('answer', axis=1) \\\n",
        "        .drop('type', axis=1)\n",
        "\n",
        "# Create a DataFrame with just the questions\n",
        "def questions(df):\n",
        "    return df[df.type == 'Q'] \\\n",
        "        .reset_index(drop=True) \\\n",
        "        .drop('type', axis=1)"
      ],
      "execution_count": 0,
      "outputs": []
    },
    {
      "cell_type": "code",
      "metadata": {
        "deletable": true,
        "editable": true,
        "id": "-LWfgMSnXaN6",
        "colab_type": "code",
        "colab": {},
        "outputId": "e2ca10a5-d007-40d6-972b-08bca734370d"
      },
      "source": [
        "statements(data_qa1)[:4]"
      ],
      "execution_count": 0,
      "outputs": [
        {
          "output_type": "execute_result",
          "data": {
            "text/html": [
              "<div>\n",
              "<style scoped>\n",
              "    .dataframe tbody tr th:only-of-type {\n",
              "        vertical-align: middle;\n",
              "    }\n",
              "\n",
              "    .dataframe tbody tr th {\n",
              "        vertical-align: top;\n",
              "    }\n",
              "\n",
              "    .dataframe thead th {\n",
              "        text-align: right;\n",
              "    }\n",
              "</style>\n",
              "<table border=\"1\" class=\"dataframe\">\n",
              "  <thead>\n",
              "    <tr style=\"text-align: right;\">\n",
              "      <th></th>\n",
              "      <th>sentence</th>\n",
              "    </tr>\n",
              "  </thead>\n",
              "  <tbody>\n",
              "    <tr>\n",
              "      <th>0</th>\n",
              "      <td>[Mary, moved, to, the, bathroom, .]</td>\n",
              "    </tr>\n",
              "    <tr>\n",
              "      <th>1</th>\n",
              "      <td>[John, went, to, the, hallway, .]</td>\n",
              "    </tr>\n",
              "    <tr>\n",
              "      <th>2</th>\n",
              "      <td>[Daniel, went, back, to, the, hallway, .]</td>\n",
              "    </tr>\n",
              "    <tr>\n",
              "      <th>3</th>\n",
              "      <td>[Sandra, moved, to, the, garden, .]</td>\n",
              "    </tr>\n",
              "  </tbody>\n",
              "</table>\n",
              "</div>"
            ],
            "text/plain": [
              "                                    sentence\n",
              "0        [Mary, moved, to, the, bathroom, .]\n",
              "1          [John, went, to, the, hallway, .]\n",
              "2  [Daniel, went, back, to, the, hallway, .]\n",
              "3        [Sandra, moved, to, the, garden, .]"
            ]
          },
          "metadata": {
            "tags": []
          },
          "execution_count": 8
        }
      ]
    },
    {
      "cell_type": "code",
      "metadata": {
        "deletable": true,
        "editable": true,
        "id": "KUDKH30AXaOA",
        "colab_type": "code",
        "colab": {},
        "outputId": "bb33ac0d-2d58-463c-dbdd-aca11ca0c3dd"
      },
      "source": [
        "questions(data_qa1)[:2]"
      ],
      "execution_count": 0,
      "outputs": [
        {
          "output_type": "execute_result",
          "data": {
            "text/html": [
              "<div>\n",
              "<style scoped>\n",
              "    .dataframe tbody tr th:only-of-type {\n",
              "        vertical-align: middle;\n",
              "    }\n",
              "\n",
              "    .dataframe tbody tr th {\n",
              "        vertical-align: top;\n",
              "    }\n",
              "\n",
              "    .dataframe thead th {\n",
              "        text-align: right;\n",
              "    }\n",
              "</style>\n",
              "<table border=\"1\" class=\"dataframe\">\n",
              "  <thead>\n",
              "    <tr style=\"text-align: right;\">\n",
              "      <th></th>\n",
              "      <th>sentence</th>\n",
              "      <th>answer</th>\n",
              "    </tr>\n",
              "  </thead>\n",
              "  <tbody>\n",
              "    <tr>\n",
              "      <th>0</th>\n",
              "      <td>[Where, is, Mary, ?]</td>\n",
              "      <td>bathroom</td>\n",
              "    </tr>\n",
              "    <tr>\n",
              "      <th>1</th>\n",
              "      <td>[Where, is, Daniel, ?]</td>\n",
              "      <td>hallway</td>\n",
              "    </tr>\n",
              "  </tbody>\n",
              "</table>\n",
              "</div>"
            ],
            "text/plain": [
              "                 sentence    answer\n",
              "0    [Where, is, Mary, ?]  bathroom\n",
              "1  [Where, is, Daniel, ?]   hallway"
            ]
          },
          "metadata": {
            "tags": []
          },
          "execution_count": 9
        }
      ]
    },
    {
      "cell_type": "code",
      "metadata": {
        "deletable": true,
        "editable": true,
        "id": "APoqNUW4XaOG",
        "colab_type": "code",
        "colab": {}
      },
      "source": [
        "# Tag each token as a part of speech\n",
        "pos_tag = lambda row: nltk.pos_tag(row.sentence)\n",
        "data_qa1['tag'] = data_qa1.apply(pos_tag, axis=1)"
      ],
      "execution_count": 0,
      "outputs": []
    },
    {
      "cell_type": "code",
      "metadata": {
        "deletable": true,
        "editable": true,
        "id": "IhyitsA_XaOJ",
        "colab_type": "code",
        "colab": {},
        "outputId": "3099c091-f479-4790-dd01-3684bd65f3b4"
      },
      "source": [
        "data_qa1[['sentence', 'tag']][:5]"
      ],
      "execution_count": 0,
      "outputs": [
        {
          "output_type": "execute_result",
          "data": {
            "text/html": [
              "<div>\n",
              "<style scoped>\n",
              "    .dataframe tbody tr th:only-of-type {\n",
              "        vertical-align: middle;\n",
              "    }\n",
              "\n",
              "    .dataframe tbody tr th {\n",
              "        vertical-align: top;\n",
              "    }\n",
              "\n",
              "    .dataframe thead th {\n",
              "        text-align: right;\n",
              "    }\n",
              "</style>\n",
              "<table border=\"1\" class=\"dataframe\">\n",
              "  <thead>\n",
              "    <tr style=\"text-align: right;\">\n",
              "      <th></th>\n",
              "      <th>sentence</th>\n",
              "      <th>tag</th>\n",
              "    </tr>\n",
              "  </thead>\n",
              "  <tbody>\n",
              "    <tr>\n",
              "      <th>0</th>\n",
              "      <td>[Mary, moved, to, the, bathroom, .]</td>\n",
              "      <td>[(Mary, NNP), (moved, VBD), (to, TO), (the, DT...</td>\n",
              "    </tr>\n",
              "    <tr>\n",
              "      <th>1</th>\n",
              "      <td>[John, went, to, the, hallway, .]</td>\n",
              "      <td>[(John, NNP), (went, VBD), (to, TO), (the, DT)...</td>\n",
              "    </tr>\n",
              "    <tr>\n",
              "      <th>2</th>\n",
              "      <td>[Where, is, Mary, ?]</td>\n",
              "      <td>[(Where, WRB), (is, VBZ), (Mary, NNP), (?, .)]</td>\n",
              "    </tr>\n",
              "    <tr>\n",
              "      <th>3</th>\n",
              "      <td>[Daniel, went, back, to, the, hallway, .]</td>\n",
              "      <td>[(Daniel, NNP), (went, VBD), (back, RB), (to, ...</td>\n",
              "    </tr>\n",
              "    <tr>\n",
              "      <th>4</th>\n",
              "      <td>[Sandra, moved, to, the, garden, .]</td>\n",
              "      <td>[(Sandra, NNP), (moved, VBD), (to, TO), (the, ...</td>\n",
              "    </tr>\n",
              "  </tbody>\n",
              "</table>\n",
              "</div>"
            ],
            "text/plain": [
              "                                    sentence  \\\n",
              "0        [Mary, moved, to, the, bathroom, .]   \n",
              "1          [John, went, to, the, hallway, .]   \n",
              "2                       [Where, is, Mary, ?]   \n",
              "3  [Daniel, went, back, to, the, hallway, .]   \n",
              "4        [Sandra, moved, to, the, garden, .]   \n",
              "\n",
              "                                                 tag  \n",
              "0  [(Mary, NNP), (moved, VBD), (to, TO), (the, DT...  \n",
              "1  [(John, NNP), (went, VBD), (to, TO), (the, DT)...  \n",
              "2     [(Where, WRB), (is, VBZ), (Mary, NNP), (?, .)]  \n",
              "3  [(Daniel, NNP), (went, VBD), (back, RB), (to, ...  \n",
              "4  [(Sandra, NNP), (moved, VBD), (to, TO), (the, ...  "
            ]
          },
          "metadata": {
            "tags": []
          },
          "execution_count": 11
        }
      ]
    },
    {
      "cell_type": "code",
      "metadata": {
        "deletable": true,
        "editable": true,
        "id": "_AW9WW1pXaOP",
        "colab_type": "code",
        "colab": {}
      },
      "source": [
        "def extract_statement(tags):\n",
        "    '''Extracts a (subject, relation, object) triple from each statement based on the POS tags'''\n",
        "    subject, relation, obj = '', '', ''\n",
        "    for word,tag in tags:\n",
        "        if tag == 'NNP':\n",
        "            subject = word\n",
        "        elif tag == 'VBD' or word == 'journeyed': # TODO: 'journeyed' is tagged improperly\n",
        "            relation = word\n",
        "        if tag == 'NNP' or tag == 'NN':\n",
        "            obj = word\n",
        "    return (subject, relation, obj)"
      ],
      "execution_count": 0,
      "outputs": []
    },
    {
      "cell_type": "code",
      "metadata": {
        "deletable": true,
        "editable": true,
        "id": "ajftQ7TbXaOT",
        "colab_type": "code",
        "colab": {}
      },
      "source": [
        "def extract_question(tags):\n",
        "    '''Extracts the entity under discussion from each question based on the POS tags'''\n",
        "    entityUnderDiscussion = ''\n",
        "    # This will find the last noun in the sentence\n",
        "    for word,tag in tags:\n",
        "        if tag == 'NNP' or tag == 'NN':\n",
        "            entityUnderDiscussion = word\n",
        "    return entityUnderDiscussion"
      ],
      "execution_count": 0,
      "outputs": []
    },
    {
      "cell_type": "code",
      "metadata": {
        "deletable": true,
        "editable": true,
        "id": "pZO45GZmXaOY",
        "colab_type": "code",
        "colab": {}
      },
      "source": [
        "def extract(row):\n",
        "    '''Extracts the appropriate data given a processed DataFrame row'''\n",
        "    if row.type == 'S':\n",
        "        return extract_statement(row.tag)\n",
        "    else:\n",
        "        return extract_question(row.tag)"
      ],
      "execution_count": 0,
      "outputs": []
    },
    {
      "cell_type": "code",
      "metadata": {
        "deletable": true,
        "editable": true,
        "id": "pAbr4-52XaOc",
        "colab_type": "code",
        "colab": {}
      },
      "source": [
        "data_qa1['extracted'] = data_qa1.apply(extract, axis=1)"
      ],
      "execution_count": 0,
      "outputs": []
    },
    {
      "cell_type": "code",
      "metadata": {
        "deletable": true,
        "editable": true,
        "id": "IIonAb8aXaOi",
        "colab_type": "code",
        "colab": {},
        "outputId": "54b06c6d-b3dd-4f63-d181-832ed5e421da"
      },
      "source": [
        "data_qa1[['sentence', 'extracted']][:5]"
      ],
      "execution_count": 0,
      "outputs": [
        {
          "output_type": "execute_result",
          "data": {
            "text/html": [
              "<div>\n",
              "<style scoped>\n",
              "    .dataframe tbody tr th:only-of-type {\n",
              "        vertical-align: middle;\n",
              "    }\n",
              "\n",
              "    .dataframe tbody tr th {\n",
              "        vertical-align: top;\n",
              "    }\n",
              "\n",
              "    .dataframe thead th {\n",
              "        text-align: right;\n",
              "    }\n",
              "</style>\n",
              "<table border=\"1\" class=\"dataframe\">\n",
              "  <thead>\n",
              "    <tr style=\"text-align: right;\">\n",
              "      <th></th>\n",
              "      <th>sentence</th>\n",
              "      <th>extracted</th>\n",
              "    </tr>\n",
              "  </thead>\n",
              "  <tbody>\n",
              "    <tr>\n",
              "      <th>0</th>\n",
              "      <td>[Mary, moved, to, the, bathroom, .]</td>\n",
              "      <td>(Mary, moved, bathroom)</td>\n",
              "    </tr>\n",
              "    <tr>\n",
              "      <th>1</th>\n",
              "      <td>[John, went, to, the, hallway, .]</td>\n",
              "      <td>(John, went, hallway)</td>\n",
              "    </tr>\n",
              "    <tr>\n",
              "      <th>2</th>\n",
              "      <td>[Where, is, Mary, ?]</td>\n",
              "      <td>Mary</td>\n",
              "    </tr>\n",
              "    <tr>\n",
              "      <th>3</th>\n",
              "      <td>[Daniel, went, back, to, the, hallway, .]</td>\n",
              "      <td>(Daniel, went, hallway)</td>\n",
              "    </tr>\n",
              "    <tr>\n",
              "      <th>4</th>\n",
              "      <td>[Sandra, moved, to, the, garden, .]</td>\n",
              "      <td>(Sandra, moved, garden)</td>\n",
              "    </tr>\n",
              "  </tbody>\n",
              "</table>\n",
              "</div>"
            ],
            "text/plain": [
              "                                    sentence                extracted\n",
              "0        [Mary, moved, to, the, bathroom, .]  (Mary, moved, bathroom)\n",
              "1          [John, went, to, the, hallway, .]    (John, went, hallway)\n",
              "2                       [Where, is, Mary, ?]                     Mary\n",
              "3  [Daniel, went, back, to, the, hallway, .]  (Daniel, went, hallway)\n",
              "4        [Sandra, moved, to, the, garden, .]  (Sandra, moved, garden)"
            ]
          },
          "metadata": {
            "tags": []
          },
          "execution_count": 16
        }
      ]
    },
    {
      "cell_type": "markdown",
      "metadata": {
        "deletable": true,
        "editable": true,
        "id": "5QNKu1z-XaOo",
        "colab_type": "text"
      },
      "source": [
        "Voila, extraction is complete."
      ]
    },
    {
      "cell_type": "code",
      "metadata": {
        "deletable": true,
        "editable": true,
        "id": "n2KhrFx5XaOs",
        "colab_type": "code",
        "colab": {}
      },
      "source": [
        "def person_statements(person):\n",
        "    '''Get all statements that refer to the specified person'''\n",
        "    stat = statements(data_qa1)\n",
        "    return stat[stat.extracted.map(lambda t: t[0] == person)]"
      ],
      "execution_count": 0,
      "outputs": []
    },
    {
      "cell_type": "markdown",
      "metadata": {
        "deletable": true,
        "editable": true,
        "id": "IG6QCwyiXaOy",
        "colab_type": "text"
      },
      "source": [
        "For instance, we can find all statements that refer to Sandra."
      ]
    },
    {
      "cell_type": "code",
      "metadata": {
        "deletable": true,
        "editable": true,
        "id": "F2m6-MyUXaO0",
        "colab_type": "code",
        "colab": {},
        "outputId": "f28a2c74-452b-40c6-9667-75b05e66f599"
      },
      "source": [
        "person_statements('Sandra')[:3]"
      ],
      "execution_count": 0,
      "outputs": [
        {
          "output_type": "execute_result",
          "data": {
            "text/html": [
              "<div>\n",
              "<style scoped>\n",
              "    .dataframe tbody tr th:only-of-type {\n",
              "        vertical-align: middle;\n",
              "    }\n",
              "\n",
              "    .dataframe tbody tr th {\n",
              "        vertical-align: top;\n",
              "    }\n",
              "\n",
              "    .dataframe thead th {\n",
              "        text-align: right;\n",
              "    }\n",
              "</style>\n",
              "<table border=\"1\" class=\"dataframe\">\n",
              "  <thead>\n",
              "    <tr style=\"text-align: right;\">\n",
              "      <th></th>\n",
              "      <th>sentence</th>\n",
              "      <th>tag</th>\n",
              "      <th>extracted</th>\n",
              "    </tr>\n",
              "  </thead>\n",
              "  <tbody>\n",
              "    <tr>\n",
              "      <th>3</th>\n",
              "      <td>[Sandra, moved, to, the, garden, .]</td>\n",
              "      <td>[(Sandra, NNP), (moved, VBD), (to, TO), (the, ...</td>\n",
              "      <td>(Sandra, moved, garden)</td>\n",
              "    </tr>\n",
              "    <tr>\n",
              "      <th>5</th>\n",
              "      <td>[Sandra, journeyed, to, the, bathroom, .]</td>\n",
              "      <td>[(Sandra, NNP), (journeyed, VBD), (to, TO), (t...</td>\n",
              "      <td>(Sandra, journeyed, bathroom)</td>\n",
              "    </tr>\n",
              "    <tr>\n",
              "      <th>10</th>\n",
              "      <td>[Sandra, travelled, to, the, office, .]</td>\n",
              "      <td>[(Sandra, NNP), (travelled, VBD), (to, TO), (t...</td>\n",
              "      <td>(Sandra, travelled, office)</td>\n",
              "    </tr>\n",
              "  </tbody>\n",
              "</table>\n",
              "</div>"
            ],
            "text/plain": [
              "                                     sentence  \\\n",
              "3         [Sandra, moved, to, the, garden, .]   \n",
              "5   [Sandra, journeyed, to, the, bathroom, .]   \n",
              "10    [Sandra, travelled, to, the, office, .]   \n",
              "\n",
              "                                                  tag  \\\n",
              "3   [(Sandra, NNP), (moved, VBD), (to, TO), (the, ...   \n",
              "5   [(Sandra, NNP), (journeyed, VBD), (to, TO), (t...   \n",
              "10  [(Sandra, NNP), (travelled, VBD), (to, TO), (t...   \n",
              "\n",
              "                        extracted  \n",
              "3         (Sandra, moved, garden)  \n",
              "5   (Sandra, journeyed, bathroom)  \n",
              "10    (Sandra, travelled, office)  "
            ]
          },
          "metadata": {
            "tags": []
          },
          "execution_count": 18
        }
      ]
    },
    {
      "cell_type": "code",
      "metadata": {
        "deletable": true,
        "editable": true,
        "id": "fCmMKxjoXaO6",
        "colab_type": "code",
        "colab": {}
      },
      "source": [
        "def person_statements_recent(person, n=5):\n",
        "    '''Get the n most recent statements that refer to the specified person in reverse chronological order'''\n",
        "    return person_statements(person)[-n:].iloc[::-1]"
      ],
      "execution_count": 0,
      "outputs": []
    },
    {
      "cell_type": "code",
      "metadata": {
        "deletable": true,
        "editable": true,
        "id": "n6z3d2M3XaO_",
        "colab_type": "code",
        "colab": {},
        "outputId": "f16e81ad-f5cd-4c5c-8c11-2b5c4e445e9e"
      },
      "source": [
        "person_statements_recent('Daniel', n=3)"
      ],
      "execution_count": 0,
      "outputs": [
        {
          "output_type": "execute_result",
          "data": {
            "text/html": [
              "<div>\n",
              "<style scoped>\n",
              "    .dataframe tbody tr th:only-of-type {\n",
              "        vertical-align: middle;\n",
              "    }\n",
              "\n",
              "    .dataframe tbody tr th {\n",
              "        vertical-align: top;\n",
              "    }\n",
              "\n",
              "    .dataframe thead th {\n",
              "        text-align: right;\n",
              "    }\n",
              "</style>\n",
              "<table border=\"1\" class=\"dataframe\">\n",
              "  <thead>\n",
              "    <tr style=\"text-align: right;\">\n",
              "      <th></th>\n",
              "      <th>sentence</th>\n",
              "      <th>tag</th>\n",
              "      <th>extracted</th>\n",
              "    </tr>\n",
              "  </thead>\n",
              "  <tbody>\n",
              "    <tr>\n",
              "      <th>1999</th>\n",
              "      <td>[Daniel, went, to, the, garden, .]</td>\n",
              "      <td>[(Daniel, NNP), (went, VBD), (to, TO), (the, D...</td>\n",
              "      <td>(Daniel, went, garden)</td>\n",
              "    </tr>\n",
              "    <tr>\n",
              "      <th>1996</th>\n",
              "      <td>[Daniel, travelled, to, the, kitchen, .]</td>\n",
              "      <td>[(Daniel, NNP), (travelled, VBD), (to, TO), (t...</td>\n",
              "      <td>(Daniel, travelled, kitchen)</td>\n",
              "    </tr>\n",
              "    <tr>\n",
              "      <th>1992</th>\n",
              "      <td>[Daniel, moved, to, the, office, .]</td>\n",
              "      <td>[(Daniel, NNP), (moved, VBD), (to, TO), (the, ...</td>\n",
              "      <td>(Daniel, moved, office)</td>\n",
              "    </tr>\n",
              "  </tbody>\n",
              "</table>\n",
              "</div>"
            ],
            "text/plain": [
              "                                      sentence  \\\n",
              "1999        [Daniel, went, to, the, garden, .]   \n",
              "1996  [Daniel, travelled, to, the, kitchen, .]   \n",
              "1992       [Daniel, moved, to, the, office, .]   \n",
              "\n",
              "                                                    tag  \\\n",
              "1999  [(Daniel, NNP), (went, VBD), (to, TO), (the, D...   \n",
              "1996  [(Daniel, NNP), (travelled, VBD), (to, TO), (t...   \n",
              "1992  [(Daniel, NNP), (moved, VBD), (to, TO), (the, ...   \n",
              "\n",
              "                         extracted  \n",
              "1999        (Daniel, went, garden)  \n",
              "1996  (Daniel, travelled, kitchen)  \n",
              "1992       (Daniel, moved, office)  "
            ]
          },
          "metadata": {
            "tags": []
          },
          "execution_count": 20
        }
      ]
    },
    {
      "cell_type": "code",
      "metadata": {
        "deletable": true,
        "editable": true,
        "id": "3LX3JNoOXaPE",
        "colab_type": "code",
        "colab": {}
      },
      "source": [
        "from neo4j.v1 import GraphDatabase, basic_auth"
      ],
      "execution_count": 0,
      "outputs": []
    },
    {
      "cell_type": "code",
      "metadata": {
        "deletable": true,
        "editable": true,
        "id": "4073vHsVXaPH",
        "colab_type": "code",
        "colab": {}
      },
      "source": [
        "# Create a neo4j session\n",
        "# NOTE: Make sure that URL/credentials are correct and that Neo4j is running\n",
        "driver = GraphDatabase.driver('bolt://localhost:7687', auth=basic_auth('neo4j', 'neo4j'))"
      ],
      "execution_count": 0,
      "outputs": []
    },
    {
      "cell_type": "code",
      "metadata": {
        "deletable": true,
        "editable": true,
        "id": "NcY7hPJBXaPJ",
        "colab_type": "code",
        "colab": {}
      },
      "source": [
        "# WARNING: This function will clear the database when run!\n",
        "# Make sure all important data is backed up before continuing\n",
        "def reset_db():\n",
        "    '''Remove all nodes and relationships from the database'''\n",
        "    session = driver.session()\n",
        "    session.run('MATCH (n) DETACH DELETE n')"
      ],
      "execution_count": 0,
      "outputs": []
    },
    {
      "cell_type": "code",
      "metadata": {
        "deletable": true,
        "editable": true,
        "id": "5vypFgfdXaPM",
        "colab_type": "code",
        "colab": {}
      },
      "source": [
        "def create(query, n=0):\n",
        "    '''Given a query, create a graph based on each triple in the extracted statements'''\n",
        "    session = driver.session()\n",
        "    stat = statements(data_qa1)\n",
        "    n = len(stat) if n <= 0 else n # Run the first n statements if specified\n",
        "    for subject,relation,obj in stat[:n].extracted:\n",
        "        session.run(query, subject=subject, relation=relation, obj=obj)"
      ],
      "execution_count": 0,
      "outputs": []
    },
    {
      "cell_type": "code",
      "metadata": {
        "deletable": true,
        "editable": true,
        "id": "zu_aNxsxXaPV",
        "colab_type": "code",
        "colab": {}
      },
      "source": [
        "reset_db() # This will clear the database!"
      ],
      "execution_count": 0,
      "outputs": []
    },
    {
      "cell_type": "code",
      "metadata": {
        "deletable": true,
        "editable": true,
        "id": "qA0KWMjhXaPd",
        "colab_type": "code",
        "colab": {}
      },
      "source": [
        "# Create a direct relationship between subject and object\n",
        "v1_query = '''\n",
        "    MERGE (s:SUBJECT {name: $subject}) \n",
        "    MERGE (o:OBJECT  {name: $obj}) \n",
        "    MERGE (s)-[r:RELATION {name: $relation}]->(o)\n",
        "'''\n",
        "\n",
        "create(v1_query)"
      ],
      "execution_count": 0,
      "outputs": []
    },
    {
      "cell_type": "markdown",
      "metadata": {
        "deletable": true,
        "editable": true,
        "id": "4Yv0WDk2XaPk",
        "colab_type": "text"
      },
      "source": [
        "<img src=\"https://github.com/rishabhdhenkawat/graph-nlu/blob/master/notebooks/screenshots/simple-relation.png?raw=1\" style=\"width:700px\">"
      ]
    },
    {
      "cell_type": "code",
      "metadata": {
        "deletable": true,
        "editable": true,
        "id": "LEc3OxO5XaPl",
        "colab_type": "code",
        "colab": {}
      },
      "source": [
        "reset_db()"
      ],
      "execution_count": 0,
      "outputs": []
    },
    {
      "cell_type": "code",
      "metadata": {
        "deletable": true,
        "editable": true,
        "id": "0GFYA81GXaPo",
        "colab_type": "code",
        "colab": {}
      },
      "source": [
        "# Represent each relation as a node\n",
        "v2_query = '''\n",
        "    MERGE (s:SUBJECT {name: $subject})\n",
        "    MERGE (o:OBJECT  {name: $obj})\n",
        "    CREATE (s)-[:R0]->(r:RELATION {name: $relation})-[:R1]->(o)\n",
        "'''\n",
        "\n",
        "create(v2_query)"
      ],
      "execution_count": 0,
      "outputs": []
    },
    {
      "cell_type": "code",
      "metadata": {
        "deletable": true,
        "editable": true,
        "id": "wOmXIAiKXaPu",
        "colab_type": "code",
        "colab": {}
      },
      "source": [
        "reset_db()"
      ],
      "execution_count": 0,
      "outputs": []
    },
    {
      "cell_type": "code",
      "metadata": {
        "deletable": true,
        "editable": true,
        "id": "YoqgEuwdXaPz",
        "colab_type": "code",
        "colab": {}
      },
      "source": [
        "v3_query = '''\n",
        "    MERGE (s:SUBJECT {name: $subject})\n",
        "    MERGE (o:OBJECT  {name: $obj})\n",
        "    \n",
        "    WITH s,o\n",
        "    \n",
        "    // Create an new relation between the subject and object\n",
        "    CREATE (s)-[:R0]->(r:RELATION {name: $relation})-[:R1]->(o)\n",
        "    CREATE (s)-[h:HEAD]->(r) // Make the newly created relation the head of the list\n",
        "    \n",
        "    WITH s,r,o,h\n",
        "    \n",
        "    // Find the previous head of the list (if none exist, this query will terminate here)\n",
        "    MATCH (s)-[h_prev:HEAD]->(r_prev:RELATION)\n",
        "    WHERE h_prev <> h\n",
        "    \n",
        "    // Complete the link, remove the previous head pointer\n",
        "    CREATE (r_prev)-[:NEXT]->(r)\n",
        "    DELETE h_prev\n",
        "'''"
      ],
      "execution_count": 0,
      "outputs": []
    },
    {
      "cell_type": "code",
      "metadata": {
        "deletable": true,
        "editable": true,
        "id": "PS52hDjFXaP1",
        "colab_type": "code",
        "colab": {}
      },
      "source": [
        "session = driver.session()\n",
        "# Create an index for faster access\n",
        "session.run('CREATE INDEX ON :SUBJECT(name)')\n",
        "session.run('CREATE INDEX ON :RELATION(name)')\n",
        "session.run('CREATE INDEX ON :OBJECT(name)')\n",
        "create(v3_query)"
      ],
      "execution_count": 0,
      "outputs": []
    },
    {
      "cell_type": "markdown",
      "metadata": {
        "deletable": true,
        "editable": true,
        "id": "2G720oD_XaP5",
        "colab_type": "text"
      },
      "source": [
        "<img src=\"https://github.com/rishabhdhenkawat/graph-nlu/blob/master/notebooks/screenshots/local-list.png?raw=1\" style=\"width:800px\">"
      ]
    },
    {
      "cell_type": "code",
      "metadata": {
        "deletable": true,
        "editable": true,
        "id": "LoBLsgyAXaP7",
        "colab_type": "code",
        "colab": {}
      },
      "source": [
        "def find_person(person):\n",
        "    '''Find the room a person is currently in'''\n",
        "    query = '''\n",
        "        MATCH (s:SUBJECT {name:$name})-[:HEAD]->(r:RELATION)-->(o:OBJECT)\n",
        "        RETURN s AS subject, r AS relation, o AS obj\n",
        "    '''\n",
        "    return session.run(query, name=person)"
      ],
      "execution_count": 0,
      "outputs": []
    },
    {
      "cell_type": "code",
      "metadata": {
        "deletable": true,
        "editable": true,
        "id": "b6i51gRCXaQC",
        "colab_type": "code",
        "colab": {},
        "outputId": "606dd440-64ae-498f-b59c-bdfb2008eeae"
      },
      "source": [
        "\n",
        "\n",
        "session = driver.session()\n",
        "record = find_person('Mary').single()\n",
        "print(record['obj'].get('name'))"
      ],
      "execution_count": 0,
      "outputs": [
        {
          "output_type": "stream",
          "text": [
            "kitchen\n"
          ],
          "name": "stdout"
        }
      ]
    },
    {
      "cell_type": "code",
      "metadata": {
        "deletable": true,
        "editable": true,
        "id": "kj9uUU4kXaQI",
        "colab_type": "code",
        "colab": {},
        "outputId": "6395593f-5f76-42a7-94b4-f37f5e6af6ce"
      },
      "source": [
        "person_statements_recent('Mary', n=1)"
      ],
      "execution_count": 0,
      "outputs": [
        {
          "output_type": "execute_result",
          "data": {
            "text/html": [
              "<div>\n",
              "<style scoped>\n",
              "    .dataframe tbody tr th:only-of-type {\n",
              "        vertical-align: middle;\n",
              "    }\n",
              "\n",
              "    .dataframe tbody tr th {\n",
              "        vertical-align: top;\n",
              "    }\n",
              "\n",
              "    .dataframe thead th {\n",
              "        text-align: right;\n",
              "    }\n",
              "</style>\n",
              "<table border=\"1\" class=\"dataframe\">\n",
              "  <thead>\n",
              "    <tr style=\"text-align: right;\">\n",
              "      <th></th>\n",
              "      <th>sentence</th>\n",
              "      <th>tag</th>\n",
              "      <th>extracted</th>\n",
              "    </tr>\n",
              "  </thead>\n",
              "  <tbody>\n",
              "    <tr>\n",
              "      <th>1994</th>\n",
              "      <td>[Mary, journeyed, to, the, kitchen, .]</td>\n",
              "      <td>[(Mary, NNP), (journeyed, VBD), (to, TO), (the...</td>\n",
              "      <td>(Mary, journeyed, kitchen)</td>\n",
              "    </tr>\n",
              "  </tbody>\n",
              "</table>\n",
              "</div>"
            ],
            "text/plain": [
              "                                    sentence  \\\n",
              "1994  [Mary, journeyed, to, the, kitchen, .]   \n",
              "\n",
              "                                                    tag  \\\n",
              "1994  [(Mary, NNP), (journeyed, VBD), (to, TO), (the...   \n",
              "\n",
              "                       extracted  \n",
              "1994  (Mary, journeyed, kitchen)  "
            ]
          },
          "metadata": {
            "tags": []
          },
          "execution_count": 34
        }
      ]
    },
    {
      "cell_type": "code",
      "metadata": {
        "deletable": true,
        "editable": true,
        "id": "PZoJKmCUXaQQ",
        "colab_type": "code",
        "colab": {}
      },
      "source": [
        "def find_person_history(person, n=100):\n",
        "    '''Find the list of rooms a person was in, ordered by recency'''\n",
        "    length = str(n) if n >= 1 else ''\n",
        "    \n",
        "    query = '''\n",
        "        MATCH (s:SUBJECT {name:$name})-[:HEAD]->(r:RELATION)-->(o:OBJECT)\n",
        "        MATCH (s)-->(r_prev:RELATION)-[k*1..%s]->(r), (r_prev)-->(o_prev:OBJECT)\n",
        "        \n",
        "        WITH size(k) AS dist, r, o, r_prev, o_prev\n",
        "        ORDER BY size(k)\n",
        "        \n",
        "        WITH r, o, r_prev, o_prev\n",
        "        RETURN [r.name] + collect(r_prev.name) AS relation, [o.name] + collect(o_prev.name) AS obj\n",
        "    '''\n",
        "    query = query % length\n",
        "    \n",
        "    session = driver.session()\n",
        "    record = session.run(query, name=person).single()\n",
        "    history = list(zip(record['relation'], record['obj']))[:-1]\n",
        "    \n",
        "    return history"
      ],
      "execution_count": 0,
      "outputs": []
    },
    {
      "cell_type": "code",
      "metadata": {
        "deletable": true,
        "editable": true,
        "scrolled": true,
        "id": "l_AQ6uxwXaQY",
        "colab_type": "code",
        "colab": {},
        "outputId": "969d2e7f-3400-4aeb-824b-519a568f3596"
      },
      "source": [
        "find_person_history('John', n=5)"
      ],
      "execution_count": 0,
      "outputs": [
        {
          "output_type": "execute_result",
          "data": {
            "text/plain": [
              "[('went', 'bedroom'),\n",
              " ('went', 'garden'),\n",
              " ('went', 'office'),\n",
              " ('journeyed', 'bedroom'),\n",
              " ('travelled', 'hallway')]"
            ]
          },
          "metadata": {
            "tags": []
          },
          "execution_count": 36
        }
      ]
    },
    {
      "cell_type": "code",
      "metadata": {
        "deletable": true,
        "editable": true,
        "id": "Jqv9N2FLXaQf",
        "colab_type": "code",
        "colab": {},
        "outputId": "9193450c-bced-4a37-a477-e03851c637b4"
      },
      "source": [
        "person_statements_recent('John', n=5)"
      ],
      "execution_count": 0,
      "outputs": [
        {
          "output_type": "execute_result",
          "data": {
            "text/html": [
              "<div>\n",
              "<style scoped>\n",
              "    .dataframe tbody tr th:only-of-type {\n",
              "        vertical-align: middle;\n",
              "    }\n",
              "\n",
              "    .dataframe tbody tr th {\n",
              "        vertical-align: top;\n",
              "    }\n",
              "\n",
              "    .dataframe thead th {\n",
              "        text-align: right;\n",
              "    }\n",
              "</style>\n",
              "<table border=\"1\" class=\"dataframe\">\n",
              "  <thead>\n",
              "    <tr style=\"text-align: right;\">\n",
              "      <th></th>\n",
              "      <th>sentence</th>\n",
              "      <th>tag</th>\n",
              "      <th>extracted</th>\n",
              "    </tr>\n",
              "  </thead>\n",
              "  <tbody>\n",
              "    <tr>\n",
              "      <th>1995</th>\n",
              "      <td>[John, went, back, to, the, bedroom, .]</td>\n",
              "      <td>[(John, NNP), (went, VBD), (back, RB), (to, TO...</td>\n",
              "      <td>(John, went, bedroom)</td>\n",
              "    </tr>\n",
              "    <tr>\n",
              "      <th>1989</th>\n",
              "      <td>[John, went, back, to, the, garden, .]</td>\n",
              "      <td>[(John, NNP), (went, VBD), (back, RB), (to, TO...</td>\n",
              "      <td>(John, went, garden)</td>\n",
              "    </tr>\n",
              "    <tr>\n",
              "      <th>1986</th>\n",
              "      <td>[John, went, back, to, the, office, .]</td>\n",
              "      <td>[(John, NNP), (went, VBD), (back, RB), (to, TO...</td>\n",
              "      <td>(John, went, office)</td>\n",
              "    </tr>\n",
              "    <tr>\n",
              "      <th>1982</th>\n",
              "      <td>[John, journeyed, to, the, bedroom, .]</td>\n",
              "      <td>[(John, NNP), (journeyed, NN), (to, TO), (the,...</td>\n",
              "      <td>(John, journeyed, bedroom)</td>\n",
              "    </tr>\n",
              "    <tr>\n",
              "      <th>1979</th>\n",
              "      <td>[John, travelled, to, the, hallway, .]</td>\n",
              "      <td>[(John, NNP), (travelled, VBD), (to, TO), (the...</td>\n",
              "      <td>(John, travelled, hallway)</td>\n",
              "    </tr>\n",
              "  </tbody>\n",
              "</table>\n",
              "</div>"
            ],
            "text/plain": [
              "                                     sentence  \\\n",
              "1995  [John, went, back, to, the, bedroom, .]   \n",
              "1989   [John, went, back, to, the, garden, .]   \n",
              "1986   [John, went, back, to, the, office, .]   \n",
              "1982   [John, journeyed, to, the, bedroom, .]   \n",
              "1979   [John, travelled, to, the, hallway, .]   \n",
              "\n",
              "                                                    tag  \\\n",
              "1995  [(John, NNP), (went, VBD), (back, RB), (to, TO...   \n",
              "1989  [(John, NNP), (went, VBD), (back, RB), (to, TO...   \n",
              "1986  [(John, NNP), (went, VBD), (back, RB), (to, TO...   \n",
              "1982  [(John, NNP), (journeyed, NN), (to, TO), (the,...   \n",
              "1979  [(John, NNP), (travelled, VBD), (to, TO), (the...   \n",
              "\n",
              "                       extracted  \n",
              "1995       (John, went, bedroom)  \n",
              "1989        (John, went, garden)  \n",
              "1986        (John, went, office)  \n",
              "1982  (John, journeyed, bedroom)  \n",
              "1979  (John, travelled, hallway)  "
            ]
          },
          "metadata": {
            "tags": []
          },
          "execution_count": 37
        }
      ]
    },
    {
      "cell_type": "code",
      "metadata": {
        "deletable": true,
        "editable": true,
        "id": "w-taVu1oXaQn",
        "colab_type": "code",
        "colab": {}
      },
      "source": [
        "def find_room_visitors(room):\n",
        "    '''Find the list of visitors a room has, ordered by recency'''\n",
        "    \n",
        "    query = '''\n",
        "        MATCH (r:RELATION)-->(o:OBJECT {name:$name})\n",
        "        RETURN count(r) AS count\n",
        "    '''\n",
        "    \n",
        "    session = driver.session()\n",
        "    record = session.run(query, name=room).single()\n",
        "    \n",
        "    return record['count']"
      ],
      "execution_count": 0,
      "outputs": []
    },
    {
      "cell_type": "code",
      "metadata": {
        "deletable": true,
        "editable": true,
        "id": "yHgyFUhEXaQr",
        "colab_type": "code",
        "colab": {},
        "outputId": "da96977a-56e9-4d18-badd-c527b411bfdb"
      },
      "source": [
        "find_room_visitors('office')"
      ],
      "execution_count": 0,
      "outputs": [
        {
          "output_type": "execute_result",
          "data": {
            "text/plain": [
              "334"
            ]
          },
          "metadata": {
            "tags": []
          },
          "execution_count": 39
        }
      ]
    },
    {
      "cell_type": "markdown",
      "metadata": {
        "collapsed": true,
        "deletable": true,
        "editable": true,
        "id": "j0AXgcnjXaQw",
        "colab_type": "text"
      },
      "source": [
        "## Calculate an Accuracy Score"
      ]
    },
    {
      "cell_type": "code",
      "metadata": {
        "deletable": true,
        "editable": true,
        "id": "HWaahjWlXaQx",
        "colab_type": "code",
        "colab": {}
      },
      "source": [
        "def get_answers(row):\n",
        "    '''Given an input row merge the statement in the graph, \n",
        "    or query the graph if it is a question'''\n",
        "    if row.type == 'S':\n",
        "        subject,relation,obj = row.extracted\n",
        "        session.run(v3_query, subject=subject, relation=relation, obj=obj)\n",
        "        return ''\n",
        "    elif row.type == 'Q':\n",
        "        person = row.extracted\n",
        "        # WARNING: do not consume the result (e.g., call .consume() or .single()) \n",
        "        # until the entire iteration is done.\n",
        "        # Failure to do so may cause the queries to be VERY slow!\n",
        "        return find_person(person)"
      ],
      "execution_count": 0,
      "outputs": []
    },
    {
      "cell_type": "code",
      "metadata": {
        "deletable": true,
        "editable": true,
        "id": "D00O5eE2XaQ4",
        "colab_type": "code",
        "colab": {}
      },
      "source": [
        "reset_db()"
      ],
      "execution_count": 0,
      "outputs": []
    },
    {
      "cell_type": "code",
      "metadata": {
        "deletable": true,
        "editable": true,
        "id": "aF0Nkd0BXaQ9",
        "colab_type": "code",
        "colab": {}
      },
      "source": [
        "session = driver.session()\n",
        "results = data_qa1.apply(get_answers, axis=1)\n",
        "results = [x for x in results if x != '']\n",
        "predicted = [result.single()['obj'].get('name') for result in results]"
      ],
      "execution_count": 0,
      "outputs": []
    },
    {
      "cell_type": "markdown",
      "metadata": {
        "deletable": true,
        "editable": true,
        "id": "oBtvqWe9XaQ_",
        "colab_type": "text"
      },
      "source": [
        "The `predicted` array contains the predicted answer to each question.`"
      ]
    },
    {
      "cell_type": "code",
      "metadata": {
        "deletable": true,
        "editable": true,
        "id": "t7rBuAj0XaRA",
        "colab_type": "code",
        "colab": {},
        "outputId": "65ab11c2-8d57-48cc-8f89-1ba3a73e7399"
      },
      "source": [
        "predicted[:5]"
      ],
      "execution_count": 0,
      "outputs": [
        {
          "output_type": "execute_result",
          "data": {
            "text/plain": [
              "['bathroom', 'hallway', 'hallway', 'office', 'bathroom']"
            ]
          },
          "metadata": {
            "tags": []
          },
          "execution_count": 44
        }
      ]
    },
    {
      "cell_type": "code",
      "metadata": {
        "deletable": true,
        "editable": true,
        "id": "NFbnmPHpXaRD",
        "colab_type": "code",
        "colab": {}
      },
      "source": [
        "actual = list(data_qa1[data_qa1.type == 'Q'].answer)"
      ],
      "execution_count": 0,
      "outputs": []
    },
    {
      "cell_type": "code",
      "metadata": {
        "deletable": true,
        "editable": true,
        "id": "BucJI0z4XaRH",
        "colab_type": "code",
        "colab": {},
        "outputId": "60910a61-4005-46be-9209-a36dbb46adfa"
      },
      "source": [
        "actual[:5]"
      ],
      "execution_count": 0,
      "outputs": [
        {
          "output_type": "execute_result",
          "data": {
            "text/plain": [
              "['bathroom', 'hallway', 'hallway', 'office', 'bathroom']"
            ]
          },
          "metadata": {
            "tags": []
          },
          "execution_count": 46
        }
      ]
    },
    {
      "cell_type": "code",
      "metadata": {
        "deletable": true,
        "editable": true,
        "id": "s8-zL2sUXaRP",
        "colab_type": "code",
        "colab": {},
        "outputId": "d05253cb-6e98-417c-fd86-1e20cee81ac9"
      },
      "source": [
        "accuracy_score(actual, predicted)"
      ],
      "execution_count": 0,
      "outputs": [
        {
          "output_type": "execute_result",
          "data": {
            "text/plain": [
              "1.0"
            ]
          },
          "metadata": {
            "tags": []
          },
          "execution_count": 47
        }
      ]
    }
  ]
}