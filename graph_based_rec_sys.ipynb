{
  "nbformat": 4,
  "nbformat_minor": 0,
  "metadata": {
    "colab": {
      "name": "graph-based-rec-sys.ipynb",
      "version": "0.3.2",
      "provenance": []
    },
    "language_info": {
      "codemirror_mode": {
        "name": "ipython",
        "version": 3
      },
      "file_extension": ".py",
      "mimetype": "text/x-python",
      "name": "python",
      "nbconvert_exporter": "python",
      "pygments_lexer": "ipython3",
      "version": "3.7.3"
    },
    "kernelspec": {
      "display_name": "Python 3",
      "language": "python",
      "name": "python3"
    }
  },
  "cells": [
    {
      "cell_type": "code",
      "metadata": {
        "id": "TpMp4irgWphu",
        "colab_type": "code",
        "outputId": "bccfc2db-9422-4b6d-f7e0-1510525b4172",
        "colab": {}
      },
      "source": [
        "!pip install py2neo\n",
        "!pip install python-igraph\n",
        "!pip install textblob"
      ],
      "execution_count": 0,
      "outputs": [
        {
          "output_type": "stream",
          "text": [
            "Requirement already satisfied: py2neo in ./anaconda3/lib/python3.7/site-packages (4.3.0)\n",
            "Requirement already satisfied: neotime~=1.7.4 in ./anaconda3/lib/python3.7/site-packages (from py2neo) (1.7.4)\n",
            "Requirement already satisfied: click==7.0 in ./anaconda3/lib/python3.7/site-packages (from py2neo) (7.0)\n",
            "Requirement already satisfied: urllib3<1.25,>=1.23 in ./anaconda3/lib/python3.7/site-packages (from py2neo) (1.24.1)\n",
            "Requirement already satisfied: pygments~=2.3.1 in ./anaconda3/lib/python3.7/site-packages (from py2neo) (2.3.1)\n",
            "Requirement already satisfied: neobolt~=1.7.12 in ./anaconda3/lib/python3.7/site-packages (from py2neo) (1.7.13)\n",
            "Requirement already satisfied: prompt-toolkit~=2.0.7 in ./anaconda3/lib/python3.7/site-packages (from py2neo) (2.0.9)\n",
            "Requirement already satisfied: pytz in ./anaconda3/lib/python3.7/site-packages (from py2neo) (2018.9)\n",
            "Requirement already satisfied: colorama in ./anaconda3/lib/python3.7/site-packages (from py2neo) (0.4.1)\n",
            "Requirement already satisfied: certifi in ./anaconda3/lib/python3.7/site-packages (from py2neo) (2019.3.9)\n",
            "Requirement already satisfied: six in ./anaconda3/lib/python3.7/site-packages (from neotime~=1.7.4->py2neo) (1.12.0)\n",
            "Requirement already satisfied: wcwidth in ./anaconda3/lib/python3.7/site-packages (from prompt-toolkit~=2.0.7->py2neo) (0.1.7)\n",
            "Collecting python-igraph\n",
            "\u001b[?25l  Downloading https://files.pythonhosted.org/packages/0f/a0/4e7134f803737aa6eebb4e5250565ace0e2599659e22be7f7eba520ff017/python-igraph-0.7.1.post6.tar.gz (377kB)\n",
            "\u001b[K    100% |████████████████████████████████| 378kB 4.1MB/s ta 0:00:01\n",
            "\u001b[?25hBuilding wheels for collected packages: python-igraph\n",
            "  Building wheel for python-igraph (setup.py) ... \u001b[?25ldone\n",
            "\u001b[?25h  Stored in directory: /home/dhanendra/.cache/pip/wheels/41/d6/02/34eebae97e25f5b87d60f4c0687e00523e3f244fa41bc3f4a7\n",
            "Successfully built python-igraph\n",
            "Installing collected packages: python-igraph\n",
            "Successfully installed python-igraph-0.7.1.post6\n",
            "Collecting textblob\n",
            "\u001b[?25l  Downloading https://files.pythonhosted.org/packages/60/f0/1d9bfcc8ee6b83472ec571406bd0dd51c0e6330ff1a51b2d29861d389e85/textblob-0.15.3-py2.py3-none-any.whl (636kB)\n",
            "\u001b[K    100% |████████████████████████████████| 645kB 33kB/s ta 0:00:01\n",
            "\u001b[?25hRequirement already satisfied: nltk>=3.1 in ./.local/lib/python3.7/site-packages (from textblob) (3.4.3)\n",
            "Requirement already satisfied: six in ./anaconda3/lib/python3.7/site-packages (from nltk>=3.1->textblob) (1.12.0)\n",
            "Installing collected packages: textblob\n",
            "Successfully installed textblob-0.15.3\n"
          ],
          "name": "stdout"
        }
      ]
    },
    {
      "cell_type": "code",
      "metadata": {
        "id": "O7l9hcVcWph2",
        "colab_type": "code",
        "colab": {}
      },
      "source": [
        "# Import py2neo and connect to Neo4j\n",
        "from py2neo import Graph\n",
        "\n",
        "# just an example, replace with credentials for your own Neo4j instance\n",
        "graph = Graph(bolt=False, host=\"54.164.111.140\", http_port=32894, user='neo4j', password='subprogram-sidewalk-flame')"
      ],
      "execution_count": 0,
      "outputs": []
    },
    {
      "cell_type": "code",
      "metadata": {
        "id": "HwfCr60oWph5",
        "colab_type": "code",
        "colab": {}
      },
      "source": [
        "# Hello world, sanity check\n",
        "graph.run(\"MATCH (a) RETURN COUNT(a) AS numberOfNodes\").evaluate()"
      ],
      "execution_count": 0,
      "outputs": []
    },
    {
      "cell_type": "code",
      "metadata": {
        "id": "0t7SoC_NWph-",
        "colab_type": "code",
        "colab": {}
      },
      "source": [
        "graph.run(\"CREATE CONSTRAINT ON (g:Group) ASSERT g.id IS UNIQUE;\")"
      ],
      "execution_count": 0,
      "outputs": []
    },
    {
      "cell_type": "code",
      "metadata": {
        "id": "enNe7FmuWpiB",
        "colab_type": "code",
        "colab": {}
      },
      "source": [
        "graph.run(\"CREATE CONSTRAINT ON (t:Topic) ASSERT t.id IS UNIQUE;\")"
      ],
      "execution_count": 0,
      "outputs": []
    },
    {
      "cell_type": "code",
      "metadata": {
        "id": "NUFkvC9FWpiE",
        "colab_type": "code",
        "colab": {}
      },
      "source": [
        "graph.run(\"CREATE INDEX ON :Group(name)\")"
      ],
      "execution_count": 0,
      "outputs": []
    },
    {
      "cell_type": "code",
      "metadata": {
        "id": "gvMUdtGtWpiH",
        "colab_type": "code",
        "colab": {}
      },
      "source": [
        "graph.run(\"CREATE INDEX ON :Topic(name)\")"
      ],
      "execution_count": 0,
      "outputs": []
    },
    {
      "cell_type": "code",
      "metadata": {
        "id": "eTumm3W6WpiN",
        "colab_type": "code",
        "colab": {}
      },
      "source": [
        "graph.run('''\n",
        "LOAD CSV WITH HEADERS\n",
        "FROM \"https://raw.githubusercontent.com/johnymontana/harvard-bar/master/data/groups.csv\"\n",
        "AS row\n",
        "MERGE (group:Group { id:row.id })\n",
        "ON CREATE SET\n",
        "  group.name = row.name,\n",
        "  group.urlname = row.urlname,\n",
        "  group.rating = toInt(row.rating),\n",
        "  group.created = toInt(row.created)\n",
        "''')"
      ],
      "execution_count": 0,
      "outputs": []
    },
    {
      "cell_type": "code",
      "metadata": {
        "id": "saCbeZz2WpiQ",
        "colab_type": "code",
        "colab": {}
      },
      "source": [
        "graph.run('''\n",
        "LOAD CSV WITH HEADERS FROM \"https://raw.githubusercontent.com/johnymontana/harvard-bar/master/data/groups_topics.csv\"  AS row\n",
        "MERGE (topic:Topic {id: row.id})\n",
        "ON CREATE SET topic.name = row.name, topic.urlkey = row.urlkey\n",
        "''')"
      ],
      "execution_count": 0,
      "outputs": []
    },
    {
      "cell_type": "code",
      "metadata": {
        "id": "E19qeQODWpiT",
        "colab_type": "code",
        "colab": {}
      },
      "source": [
        "graph.run('''\n",
        "LOAD CSV WITH HEADERS FROM \"https://raw.githubusercontent.com/johnymontana/harvard-bar/master/data/groups_topics.csv\"  AS row\n",
        "MATCH (topic:Topic {id: row.id})\n",
        "MATCH (group:Group {id: row.groupId})\n",
        "MERGE (group)-[:HAS_TOPIC]->(topic)\n",
        "''')"
      ],
      "execution_count": 0,
      "outputs": []
    },
    {
      "cell_type": "code",
      "metadata": {
        "id": "w74SRdteWpiY",
        "colab_type": "code",
        "colab": {}
      },
      "source": [
        "result = graph.run('''\n",
        "MATCH (group:Group)-[:HAS_TOPIC]->(topic)<-[:HAS_TOPIC]-(otherGroup)\n",
        "WHERE group.name CONTAINS \"Graph Database\"\n",
        "RETURN otherGroup.name, COUNT(topic) AS topicsInCommon,\n",
        "       COLLECT(topic.name) AS topics\n",
        "ORDER BY topicsInCommon DESC, otherGroup.name\n",
        "LIMIT 10\n",
        "''')\n",
        "\n",
        "for row in result:\n",
        "    print(row)"
      ],
      "execution_count": 0,
      "outputs": []
    },
    {
      "cell_type": "code",
      "metadata": {
        "id": "RMFXeaXTWpid",
        "colab_type": "code",
        "colab": {}
      },
      "source": [
        "from igraph import Graph as IGraph"
      ],
      "execution_count": 0,
      "outputs": []
    },
    {
      "cell_type": "code",
      "metadata": {
        "id": "9Z0z1o3vWpik",
        "colab_type": "code",
        "colab": {}
      },
      "source": [
        "\n",
        "query = \"\"\"\n",
        "MATCH (topic:Topic)<-[:HAS_TOPIC]-()-[:HAS_TOPIC]->(other:Topic)\n",
        "WHERE ID(topic) < ID(other)\n",
        "RETURN topic.name, other.name, COUNT(*) AS weight\n",
        "ORDER BY weight DESC\n",
        "LIMIT 10\n",
        "\"\"\"\n",
        "\n",
        "result = graph.run(query)\n",
        "for row in result:\n",
        "    print(row)\n"
      ],
      "execution_count": 0,
      "outputs": []
    },
    {
      "cell_type": "code",
      "metadata": {
        "id": "ODedYe0wWpio",
        "colab_type": "code",
        "colab": {}
      },
      "source": [
        "query = \"\"\"\n",
        "MATCH (topic:Topic)<-[:HAS_TOPIC]-()-[:HAS_TOPIC]->(other:Topic)\n",
        "WHERE ID(topic) < ID(other)\n",
        "RETURN topic.name, other.name, COUNT(*) AS weight\n",
        "\"\"\"\n",
        "\n",
        "ig = IGraph.TupleList(graph.run(query), weights=True)\n",
        "ig"
      ],
      "execution_count": 0,
      "outputs": []
    },
    {
      "cell_type": "code",
      "metadata": {
        "id": "1qFnktqHWpit",
        "colab_type": "code",
        "colab": {}
      },
      "source": [
        "clusters = IGraph.community_walktrap(ig, weights=\"weight\")\n",
        "clusters = clusters.as_clustering()\n",
        "len(clusters)"
      ],
      "execution_count": 0,
      "outputs": []
    },
    {
      "cell_type": "code",
      "metadata": {
        "id": "zexVeMrsWpiz",
        "colab_type": "code",
        "colab": {}
      },
      "source": [
        "\n",
        "nodes = [node[\"name\"] for node in ig.vs]\n",
        "nodes = [{\"id\": x, \"label\": x} for x in nodes]\n",
        "nodes[:5]\n",
        "\n",
        "for node in nodes:\n",
        "    idx = ig.vs.find(name=node[\"id\"]).index\n",
        "    node[\"group\"] = clusters.membership[idx]\n",
        "    \n",
        "nodes[:5]"
      ],
      "execution_count": 0,
      "outputs": []
    },
    {
      "cell_type": "code",
      "metadata": {
        "id": "-Ndd5KPSWpi4",
        "colab_type": "code",
        "colab": {}
      },
      "source": [
        "query = \"\"\"\n",
        "UNWIND {params} AS p \n",
        "MATCH (t:Topic {name: p.id}) \n",
        "MERGE (cluster:Cluster {name: p.group})\n",
        "MERGE (t)-[:IN_CLUSTER]->(cluster)\n",
        "\"\"\"\n",
        "\n",
        "graph.run(query, params = nodes)"
      ],
      "execution_count": 0,
      "outputs": []
    },
    {
      "cell_type": "markdown",
      "metadata": {
        "id": "umvO211gWpjB",
        "colab_type": "text"
      },
      "source": [
        "We can see which clusters the Python related topics end up being in:\n",
        "![](http://guides.neo4j.com/bostonmeetup/img/python_cluster.png)"
      ]
    },
    {
      "cell_type": "code",
      "metadata": {
        "id": "yoP_hNguWpjE",
        "colab_type": "code",
        "colab": {}
      },
      "source": [
        "graph.run('''\n",
        "MATCH (cluster:Cluster)<-[inCluster:IN_CLUSTER]-(topic)\n",
        "WHERE topic.name CONTAINS \"Python\"\n",
        "RETURN *\n",
        "''')"
      ],
      "execution_count": 0,
      "outputs": []
    },
    {
      "cell_type": "code",
      "metadata": {
        "id": "kyzqVEU8WpjI",
        "colab_type": "code",
        "colab": {}
      },
      "source": [
        "graph.run('''\n",
        "CREATE CONSTRAINT ON (m:Member)\n",
        "ASSERT m.id IS UNIQUE''')"
      ],
      "execution_count": 0,
      "outputs": []
    },
    {
      "cell_type": "code",
      "metadata": {
        "id": "_os4lSuEWpjM",
        "colab_type": "code",
        "colab": {}
      },
      "source": [
        "graph.run('''\n",
        "USING PERIODIC COMMIT 10000\n",
        "LOAD CSV WITH HEADERS\n",
        "FROM \"https://raw.githubusercontent.com/johnymontana/harvard-bar/master/data/members.csv\" AS row\n",
        "WITH DISTINCT row.id AS id, row.name AS name\n",
        "MERGE (member:Member {id: id})\n",
        "ON CREATE SET member.name = name\n",
        "''')"
      ],
      "execution_count": 0,
      "outputs": []
    },
    {
      "cell_type": "code",
      "metadata": {
        "id": "xQttNOk7WpjP",
        "colab_type": "code",
        "colab": {}
      },
      "source": [
        "graph.run('''\n",
        "USING PERIODIC COMMIT 10000\n",
        "LOAD CSV WITH HEADERS\n",
        "FROM \"https://raw.githubusercontent.com/johnymontana/harvard-bar/master/data/members.csv\" AS row\n",
        "WITH row WHERE NOT row.joined is null\n",
        "MATCH (member:Member {id: row.id})\n",
        "MATCH (group:Group {id: row.groupId})\n",
        "MERGE (member)-[membership:MEMBER_OF]->(group)\n",
        "ON CREATE SET membership.joined=toInt(row.joined);\n",
        "''')"
      ],
      "execution_count": 0,
      "outputs": []
    },
    {
      "cell_type": "code",
      "metadata": {
        "id": "w7otOq1eWpjU",
        "colab_type": "code",
        "colab": {}
      },
      "source": [
        "graph.run('''\n",
        "MATCH (member:Member)-[membership:MEMBER_OF]->(group)\n",
        "RETURN member, group, membership\n",
        "LIMIT 10\n",
        "''')"
      ],
      "execution_count": 0,
      "outputs": []
    },
    {
      "cell_type": "markdown",
      "metadata": {
        "id": "Hg4wZyGyWpjZ",
        "colab_type": "text"
      },
      "source": [
        "![](http://guides.neo4j.com/bostonmeetup/img/group_members.png)"
      ]
    },
    {
      "cell_type": "code",
      "metadata": {
        "id": "SCTOjJVsWpja",
        "colab_type": "code",
        "colab": {}
      },
      "source": [
        "graph.run(\"CREATE INDEX ON :Member(name)\")"
      ],
      "execution_count": 0,
      "outputs": []
    },
    {
      "cell_type": "markdown",
      "metadata": {
        "id": "K2ccIO7RWpjd",
        "colab_type": "text"
      },
      "source": [
        "### Find my similar groups"
      ]
    },
    {
      "cell_type": "code",
      "metadata": {
        "id": "zJ0zZpocWpjd",
        "colab_type": "code",
        "colab": {}
      },
      "source": [
        "results = graph.run('''MATCH (member:Member {name: \"Will Lyon\"})-[:MEMBER_OF]->()-[:HAS_TOPIC]->()<-[:HAS_TOPIC]-(otherGroup:Group)\n",
        "WHERE NOT (member)-[:MEMBER_OF]->(otherGroup)\n",
        "RETURN otherGroup.name,\n",
        "       COUNT(*) AS topicsInCommon\n",
        "ORDER BY topicsInCommon DESC\n",
        "LIMIT 10''')\n",
        "\n",
        "for row in results:\n",
        "    print(row)"
      ],
      "execution_count": 0,
      "outputs": []
    },
    {
      "cell_type": "code",
      "metadata": {
        "id": "GKEQUzyiWpjj",
        "colab_type": "code",
        "colab": {}
      },
      "source": [
        "graph.run(\"CREATE CONSTRAINT ON (e:Event) ASSERT e.id IS UNIQUE\")"
      ],
      "execution_count": 0,
      "outputs": []
    },
    {
      "cell_type": "code",
      "metadata": {
        "id": "zLNxYXY8Wpjm",
        "colab_type": "code",
        "colab": {}
      },
      "source": [
        "graph.run(\"CREATE INDEX ON :Event(time)\")"
      ],
      "execution_count": 0,
      "outputs": []
    },
    {
      "cell_type": "code",
      "metadata": {
        "id": "JE8CFClmWpjq",
        "colab_type": "code",
        "colab": {}
      },
      "source": [
        "graph.run('''USING PERIODIC COMMIT 10000\n",
        "LOAD CSV WITH HEADERS FROM \"https://raw.githubusercontent.com/johnymontana/harvard-bar/master/data/events.csv\" AS row\n",
        "MERGE (event:Event {id: row.id})\n",
        "ON CREATE SET event.name = row.name,\n",
        "              event.description = row.description,\n",
        "              event.time = toInt(row.time),\n",
        "              event.utcOffset = toInt(row.utc_offset)\n",
        "''')\n",
        "              "
      ],
      "execution_count": 0,
      "outputs": []
    },
    {
      "cell_type": "code",
      "metadata": {
        "id": "ObaeJS6UWpjt",
        "colab_type": "code",
        "colab": {}
      },
      "source": [
        "graph.run('''\n",
        "USING PERIODIC COMMIT 10000\n",
        "LOAD CSV WITH HEADERS FROM \"https://raw.githubusercontent.com/johnymontana/harvard-bar/master/data/events.csv\" AS row\n",
        "\n",
        "WITH distinct row.group_id as groupId, row.id as eventId\n",
        "MATCH (group:Group {id: groupId})\n",
        "MATCH (event:Event {id: eventId})\n",
        "MERGE (group)-[:HOSTED_EVENT]->(event)\n",
        "''')"
      ],
      "execution_count": 0,
      "outputs": []
    },
    {
      "cell_type": "code",
      "metadata": {
        "id": "9Zs8-UIIWpj2",
        "colab_type": "code",
        "colab": {}
      },
      "source": [
        "graph.run('''\n",
        "MATCH (group:Group)-[hosted:HOSTED_EVENT]->(event)\n",
        "WHERE group.name CONTAINS \"Graph Database\" AND event.time < timestamp()\n",
        "RETURN event, group, hosted\n",
        "ORDER BY event.time DESC\n",
        "LIMIT 10\n",
        "''')"
      ],
      "execution_count": 0,
      "outputs": []
    },
    {
      "cell_type": "code",
      "metadata": {
        "id": "vd6GlSftWpj6",
        "colab_type": "code",
        "colab": {}
      },
      "source": [
        "graph.run('''\n",
        "USING PERIODIC COMMIT 10000\n",
        "LOAD CSV WITH HEADERS FROM \"file:///rsvps.csv\" AS row\n",
        "WITH row WHERE row.response = \"yes\"\n",
        "\n",
        "MATCH (member:Member {id: row.member_id})\n",
        "MATCH (event:Event {id: row.event_id})\n",
        "MERGE (member)-[rsvp:RSVPD {id: row.rsvp_id}]->(event)\n",
        "ON CREATE SET rsvp.created = toint(row.created),\n",
        "              rsvp.lastModified = toint(row.mtime),\n",
        "              rsvp.guests = toint(row.guests)\n",
        "''')"
      ],
      "execution_count": 0,
      "outputs": []
    },
    {
      "cell_type": "code",
      "metadata": {
        "id": "zrntc_PRWpj8",
        "colab_type": "code",
        "colab": {}
      },
      "source": [
        ""
      ],
      "execution_count": 0,
      "outputs": []
    },
    {
      "cell_type": "markdown",
      "metadata": {
        "id": "GC_FC0TTWpkA",
        "colab_type": "text"
      },
      "source": [
        "![](![](http://guides.neo4j.com/bostonmeetup/img/graph_database_events.png)"
      ]
    },
    {
      "cell_type": "code",
      "metadata": {
        "id": "GErzfDM9WpkD",
        "colab_type": "code",
        "colab": {}
      },
      "source": [
        ""
      ],
      "execution_count": 0,
      "outputs": []
    },
    {
      "cell_type": "code",
      "metadata": {
        "id": "JwgxSSCGWpkG",
        "colab_type": "code",
        "colab": {}
      },
      "source": [
        "from textblob import TextBlob"
      ],
      "execution_count": 0,
      "outputs": []
    },
    {
      "cell_type": "code",
      "metadata": {
        "id": "-s6eN2gGWpkO",
        "colab_type": "code",
        "colab": {}
      },
      "source": [
        "# fetch one event\n",
        "desc = graph.run(\"MATCH (e:Event) WHERE e.description IS NOT null WITH e, rand() AS r ORDER BY r RETURN e.description LIMIT 1\").evaluate()\n",
        "desc"
      ],
      "execution_count": 0,
      "outputs": []
    },
    {
      "cell_type": "code",
      "metadata": {
        "id": "0HtOgO9BWpkQ",
        "colab_type": "code",
        "colab": {}
      },
      "source": [
        "# Helper function for stripping HTML\n",
        "from HTMLParser import HTMLParser\n",
        "class MLStripper(HTMLParser):\n",
        "    def __init__(self):\n",
        "        self.reset()\n",
        "        self.fed = []\n",
        "    def handle_data(self, d):\n",
        "        self.fed.append(d)\n",
        "    def get_data(self):\n",
        "        return ''.join(self.fed)\n",
        "    \n",
        "def strip_tags(html):\n",
        "    s = MLStripper()\n",
        "    s.feed(html)\n",
        "    return s.get_data()"
      ],
      "execution_count": 0,
      "outputs": []
    },
    {
      "cell_type": "code",
      "metadata": {
        "id": "6RAdsiGtWpkU",
        "colab_type": "code",
        "colab": {}
      },
      "source": [
        "# extract keywords with TextBlob\n",
        "blob = TextBlob(strip_tags(desc))\n",
        "\n",
        "# sentiment analysis\n",
        "print(\"Sentiment: \")\n",
        "print(blob.sentiment.polarity)\n",
        "print()\n",
        "\n",
        "# keyword extraction (using noun phrases)\n",
        "print(\"Keywords: \")\n",
        "print(blob.noun_phrases)"
      ],
      "execution_count": 0,
      "outputs": []
    },
    {
      "cell_type": "code",
      "metadata": {
        "id": "B-CQJjaFWpkW",
        "colab_type": "code",
        "colab": {}
      },
      "source": [
        "graph.run(\"CREATE CONSTRAINT ON (k:Keyword) ASSERT k.name IS UNIQUE\")"
      ],
      "execution_count": 0,
      "outputs": []
    },
    {
      "cell_type": "code",
      "metadata": {
        "id": "Vvhb6GzPWpkY",
        "colab_type": "code",
        "colab": {}
      },
      "source": [
        "def addKeywords(query):\n",
        "    result = graph.run(query)\n",
        "    for row in result:\n",
        "        blob = TextBlob(strip_tags(row['desc']))\n",
        "        kws = blob.noun_phrases\n",
        "        if kws:\n",
        "            \n",
        "            p = {\n",
        "                'kws': kws,\n",
        "                'e_id': str(row['e_id'])\n",
        "            }\n",
        "            print(p)\n",
        "            \n",
        "            query = '''\n",
        "            WITH {kws} AS kws\n",
        "                MATCH (e:Event) WHERE e.id = {e_id}\n",
        "                UNWIND kws AS kw\n",
        "                MERGE (k:Keyword {name: kw})\n",
        "                MERGE (e)-[:HAS_TAG]->(k)\n",
        "            '''\n",
        "            \n",
        "            graph.run(query, parameters = p)\n"
      ],
      "execution_count": 0,
      "outputs": []
    },
    {
      "cell_type": "code",
      "metadata": {
        "id": "VQN2ezESWpkd",
        "colab_type": "code",
        "colab": {}
      },
      "source": [
        "addKeywords('''\n",
        "        MATCH (e:Event)<-[:HOSTED_EVENT]-(g:Group {name: \"Graph Database - Austin\"})\n",
        "        RETURN e.id AS e_id, e.description AS desc\n",
        "        ''')"
      ],
      "execution_count": 0,
      "outputs": []
    },
    {
      "cell_type": "code",
      "metadata": {
        "id": "qrj-7Qm2Wpkf",
        "colab_type": "code",
        "colab": {}
      },
      "source": [
        "    addKeywords('''\n",
        "        MATCH (e:Event) WHERE e.description IS NOT NULL AND NOT exists((e)-[:HAS_TAG]->(:Keyword))\n",
        "        WITH e, rand() AS r ORDER BY r SKIP 0 LIMIT 100 \n",
        "        RETURN e.id AS e_id, e.description AS desc\n",
        "        ''')"
      ],
      "execution_count": 0,
      "outputs": []
    },
    {
      "cell_type": "code",
      "metadata": {
        "id": "X19fwjd2Wpki",
        "colab_type": "code",
        "colab": {}
      },
      "source": [
        ""
      ],
      "execution_count": 0,
      "outputs": []
    },
    {
      "cell_type": "code",
      "metadata": {
        "id": "RHFPMrC7Wpkl",
        "colab_type": "code",
        "colab": {}
      },
      "source": [
        ""
      ],
      "execution_count": 0,
      "outputs": []
    },
    {
      "cell_type": "code",
      "metadata": {
        "id": "a9I9nNKpWpkr",
        "colab_type": "code",
        "colab": {}
      },
      "source": [
        ""
      ],
      "execution_count": 0,
      "outputs": []
    }
  ]
}